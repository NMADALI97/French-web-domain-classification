{
  "nbformat": 4,
  "nbformat_minor": 0,
  "metadata": {
    "colab": {
      "name": "Graph Neural Network.ipynb",
      "provenance": [],
      "collapsed_sections": []
    },
    "kernelspec": {
      "name": "python3",
      "display_name": "Python 3"
    },
    "accelerator": "GPU"
  },
  "cells": [
    {
      "cell_type": "markdown",
      "metadata": {
        "id": "wOHIizo5ryoM",
        "colab_type": "text"
      },
      "source": [
        "# Download Data"
      ]
    },
    {
      "cell_type": "code",
      "metadata": {
        "id": "B1U_l72hf3Zx",
        "colab_type": "code",
        "outputId": "82a32af5-c66f-4875-d802-91e61a5ebbdd",
        "colab": {
          "base_uri": "https://localhost:8080/",
          "height": 86
        }
      },
      "source": [
        "!gdown https://drive.google.com/uc?id=13q11ZnhYehDtibrHCvA7kfSkCKcxMpcv\n",
        "\n",
        "import zipfile\n",
        "with zipfile.ZipFile(\"fr-domain-classification.zip\",\"r\") as zip_ref:\n",
        "    zip_ref.extractall(\"\")\n",
        "    "
      ],
      "execution_count": 1,
      "outputs": [
        {
          "output_type": "stream",
          "text": [
            "Downloading...\n",
            "From: https://drive.google.com/uc?id=13q11ZnhYehDtibrHCvA7kfSkCKcxMpcv\n",
            "To: /content/fr-domain-classification.zip\n",
            "259MB [00:03, 79.0MB/s]\n"
          ],
          "name": "stdout"
        }
      ]
    },
    {
      "cell_type": "markdown",
      "metadata": {
        "id": "Fgp30ZeHsGr_",
        "colab_type": "text"
      },
      "source": [
        "# Load Pretrained Node Embeddings Matrix "
      ]
    },
    {
      "cell_type": "code",
      "metadata": {
        "id": "MRJU0_nIsIZB",
        "colab_type": "code",
        "colab": {
          "base_uri": "https://localhost:8080/",
          "height": 86
        },
        "outputId": "e88193a9-9c45-453e-8af8-fe5f1d47f7f3"
      },
      "source": [
        "!gdown https://drive.google.com/uc?id=1E6K2bW5I8X0zIrXmQRy-c02-lZVKMl6n"
      ],
      "execution_count": 2,
      "outputs": [
        {
          "output_type": "stream",
          "text": [
            "Downloading...\n",
            "From: https://drive.google.com/uc?id=1E6K2bW5I8X0zIrXmQRy-c02-lZVKMl6n\n",
            "To: /content/pretrained_embeddings.npy\n",
            "57.4MB [00:00, 217MB/s]\n"
          ],
          "name": "stdout"
        }
      ]
    },
    {
      "cell_type": "markdown",
      "metadata": {
        "id": "ZeIHzUnWrrc4",
        "colab_type": "text"
      },
      "source": [
        "#Install Dependencies"
      ]
    },
    {
      "cell_type": "code",
      "metadata": {
        "id": "S-SJEGjdKJS9",
        "colab_type": "code",
        "outputId": "68c4412c-d8dd-4458-e878-dc8291bc2d7c",
        "colab": {
          "base_uri": "https://localhost:8080/",
          "height": 208
        }
      },
      "source": [
        "!pip install torch-scatter==latest+cu101 torch-sparse==latest+cu101 -f https://s3.eu-central-1.amazonaws.com/pytorch-geometric.com/whl/torch-1.4.0.html"
      ],
      "execution_count": 3,
      "outputs": [
        {
          "output_type": "stream",
          "text": [
            "Looking in links: https://s3.eu-central-1.amazonaws.com/pytorch-geometric.com/whl/torch-1.4.0.html\n",
            "Collecting torch-scatter==latest+cu101\n",
            "\u001b[?25l  Downloading https://s3.eu-central-1.amazonaws.com/pytorch-geometric.com/whl/torch-1.4.0/torch_scatter-latest%2Bcu101-cp36-cp36m-linux_x86_64.whl (10.6MB)\n",
            "\u001b[K     |████████████████████████████████| 10.6MB 3.1MB/s \n",
            "\u001b[?25hCollecting torch-sparse==latest+cu101\n",
            "\u001b[?25l  Downloading https://s3.eu-central-1.amazonaws.com/pytorch-geometric.com/whl/torch-1.4.0/torch_sparse-latest%2Bcu101-cp36-cp36m-linux_x86_64.whl (11.5MB)\n",
            "\u001b[K     |████████████████████████████████| 11.5MB 68.5MB/s \n",
            "\u001b[?25hRequirement already satisfied: scipy in /usr/local/lib/python3.6/dist-packages (from torch-sparse==latest+cu101) (1.4.1)\n",
            "Requirement already satisfied: numpy>=1.13.3 in /usr/local/lib/python3.6/dist-packages (from scipy->torch-sparse==latest+cu101) (1.17.5)\n",
            "Installing collected packages: torch-scatter, torch-sparse\n",
            "Successfully installed torch-scatter-2.0.4 torch-sparse-0.6.0\n"
          ],
          "name": "stdout"
        }
      ]
    },
    {
      "cell_type": "code",
      "metadata": {
        "id": "UjoTbUQVnCz8",
        "colab_type": "code",
        "colab": {
          "base_uri": "https://localhost:8080/",
          "height": 1000
        },
        "outputId": "1a0bddec-1487-494f-f198-fbb11cb45849"
      },
      "source": [
        "\n",
        "!pip install --upgrade torch-cluster\n",
        "!pip install --upgrade torch-spline-conv \n",
        "!pip install torch-geometric\n",
        "\n"
      ],
      "execution_count": 4,
      "outputs": [
        {
          "output_type": "stream",
          "text": [
            "Collecting torch-cluster\n",
            "  Downloading https://files.pythonhosted.org/packages/c3/70/1d827d6fd1e03bb5ae84852dd0070c6574105c37e7b935284f6e990932db/torch_cluster-1.4.5.tar.gz\n",
            "Requirement already satisfied, skipping upgrade: scipy in /usr/local/lib/python3.6/dist-packages (from torch-cluster) (1.4.1)\n",
            "Requirement already satisfied, skipping upgrade: numpy>=1.13.3 in /usr/local/lib/python3.6/dist-packages (from scipy->torch-cluster) (1.17.5)\n",
            "Building wheels for collected packages: torch-cluster\n",
            "  Building wheel for torch-cluster (setup.py) ... \u001b[?25l\u001b[?25hdone\n",
            "  Created wheel for torch-cluster: filename=torch_cluster-1.4.5-cp36-cp36m-linux_x86_64.whl size=20364221 sha256=eb23098969c830da314fac7bd30413a6862c8e2af1c28c8389232f2b78a90403\n",
            "  Stored in directory: /root/.cache/pip/wheels/0a/26/7e/a6d6a80eae5ca39b92bc77773f36cf433d5085de18014382b1\n",
            "Successfully built torch-cluster\n",
            "Installing collected packages: torch-cluster\n",
            "Successfully installed torch-cluster-1.4.5\n",
            "Collecting torch-spline-conv\n",
            "  Downloading https://files.pythonhosted.org/packages/5e/77/5420584cdb1514c580722ca4bc482a509105d64b7c70246e9dc4a3e6d3c5/torch_spline_conv-1.1.1.tar.gz\n",
            "Building wheels for collected packages: torch-spline-conv\n",
            "  Building wheel for torch-spline-conv (setup.py) ... \u001b[?25l\u001b[?25hdone\n",
            "  Created wheel for torch-spline-conv: filename=torch_spline_conv-1.1.1-cp36-cp36m-linux_x86_64.whl size=6895745 sha256=ed7261fccf0417e3b030897a6fb64495bf605a40c3613c34588fcce4a9143fca\n",
            "  Stored in directory: /root/.cache/pip/wheels/63/cf/c7/3439a98ba262c5d99b91a9c11aaeced67f583febab5a4b1566\n",
            "Successfully built torch-spline-conv\n",
            "Installing collected packages: torch-spline-conv\n",
            "Successfully installed torch-spline-conv-1.1.1\n",
            "Collecting torch-geometric\n",
            "\u001b[?25l  Downloading https://files.pythonhosted.org/packages/13/b3/0516919a575a1a0a862bab1decfcfb5285ced09e9ffae6442af3b5981301/torch_geometric-1.4.2.tar.gz (139kB)\n",
            "\u001b[K     |████████████████████████████████| 143kB 7.3MB/s \n",
            "\u001b[?25hRequirement already satisfied: torch in /usr/local/lib/python3.6/dist-packages (from torch-geometric) (1.4.0)\n",
            "Requirement already satisfied: numpy in /usr/local/lib/python3.6/dist-packages (from torch-geometric) (1.17.5)\n",
            "Requirement already satisfied: scipy in /usr/local/lib/python3.6/dist-packages (from torch-geometric) (1.4.1)\n",
            "Requirement already satisfied: networkx in /usr/local/lib/python3.6/dist-packages (from torch-geometric) (2.4)\n",
            "Requirement already satisfied: scikit-learn in /usr/local/lib/python3.6/dist-packages (from torch-geometric) (0.22.1)\n",
            "Requirement already satisfied: scikit-image in /usr/local/lib/python3.6/dist-packages (from torch-geometric) (0.16.2)\n",
            "Requirement already satisfied: numba in /usr/local/lib/python3.6/dist-packages (from torch-geometric) (0.47.0)\n",
            "Requirement already satisfied: requests in /usr/local/lib/python3.6/dist-packages (from torch-geometric) (2.21.0)\n",
            "Collecting plyfile\n",
            "  Downloading https://files.pythonhosted.org/packages/4c/15/434d1d96f9a41fea56cb3290718123d651c56c4b7e53f0249acaf1bf34b6/plyfile-0.7.1.tar.gz\n",
            "Requirement already satisfied: pandas in /usr/local/lib/python3.6/dist-packages (from torch-geometric) (0.25.3)\n",
            "Collecting rdflib\n",
            "\u001b[?25l  Downloading https://files.pythonhosted.org/packages/3c/fe/630bacb652680f6d481b9febbb3e2c3869194a1a5fc3401a4a41195a2f8f/rdflib-4.2.2-py3-none-any.whl (344kB)\n",
            "\u001b[K     |████████████████████████████████| 348kB 11.6MB/s \n",
            "\u001b[?25hRequirement already satisfied: h5py in /usr/local/lib/python3.6/dist-packages (from torch-geometric) (2.8.0)\n",
            "Requirement already satisfied: googledrivedownloader in /usr/local/lib/python3.6/dist-packages (from torch-geometric) (0.4)\n",
            "Requirement already satisfied: decorator>=4.3.0 in /usr/local/lib/python3.6/dist-packages (from networkx->torch-geometric) (4.4.1)\n",
            "Requirement already satisfied: joblib>=0.11 in /usr/local/lib/python3.6/dist-packages (from scikit-learn->torch-geometric) (0.14.1)\n",
            "Requirement already satisfied: matplotlib!=3.0.0,>=2.0.0 in /usr/local/lib/python3.6/dist-packages (from scikit-image->torch-geometric) (3.1.3)\n",
            "Requirement already satisfied: pillow>=4.3.0 in /usr/local/lib/python3.6/dist-packages (from scikit-image->torch-geometric) (6.2.2)\n",
            "Requirement already satisfied: PyWavelets>=0.4.0 in /usr/local/lib/python3.6/dist-packages (from scikit-image->torch-geometric) (1.1.1)\n",
            "Requirement already satisfied: imageio>=2.3.0 in /usr/local/lib/python3.6/dist-packages (from scikit-image->torch-geometric) (2.4.1)\n",
            "Requirement already satisfied: llvmlite>=0.31.0dev0 in /usr/local/lib/python3.6/dist-packages (from numba->torch-geometric) (0.31.0)\n",
            "Requirement already satisfied: setuptools in /usr/local/lib/python3.6/dist-packages (from numba->torch-geometric) (45.1.0)\n",
            "Requirement already satisfied: idna<2.9,>=2.5 in /usr/local/lib/python3.6/dist-packages (from requests->torch-geometric) (2.8)\n",
            "Requirement already satisfied: urllib3<1.25,>=1.21.1 in /usr/local/lib/python3.6/dist-packages (from requests->torch-geometric) (1.24.3)\n",
            "Requirement already satisfied: chardet<3.1.0,>=3.0.2 in /usr/local/lib/python3.6/dist-packages (from requests->torch-geometric) (3.0.4)\n",
            "Requirement already satisfied: certifi>=2017.4.17 in /usr/local/lib/python3.6/dist-packages (from requests->torch-geometric) (2019.11.28)\n",
            "Requirement already satisfied: pytz>=2017.2 in /usr/local/lib/python3.6/dist-packages (from pandas->torch-geometric) (2018.9)\n",
            "Requirement already satisfied: python-dateutil>=2.6.1 in /usr/local/lib/python3.6/dist-packages (from pandas->torch-geometric) (2.6.1)\n",
            "Requirement already satisfied: pyparsing in /usr/local/lib/python3.6/dist-packages (from rdflib->torch-geometric) (2.4.6)\n",
            "Collecting isodate\n",
            "\u001b[?25l  Downloading https://files.pythonhosted.org/packages/9b/9f/b36f7774ff5ea8e428fdcfc4bb332c39ee5b9362ddd3d40d9516a55221b2/isodate-0.6.0-py2.py3-none-any.whl (45kB)\n",
            "\u001b[K     |████████████████████████████████| 51kB 9.0MB/s \n",
            "\u001b[?25hRequirement already satisfied: six in /usr/local/lib/python3.6/dist-packages (from h5py->torch-geometric) (1.12.0)\n",
            "Requirement already satisfied: kiwisolver>=1.0.1 in /usr/local/lib/python3.6/dist-packages (from matplotlib!=3.0.0,>=2.0.0->scikit-image->torch-geometric) (1.1.0)\n",
            "Requirement already satisfied: cycler>=0.10 in /usr/local/lib/python3.6/dist-packages (from matplotlib!=3.0.0,>=2.0.0->scikit-image->torch-geometric) (0.10.0)\n",
            "Building wheels for collected packages: torch-geometric, plyfile\n",
            "  Building wheel for torch-geometric (setup.py) ... \u001b[?25l\u001b[?25hdone\n",
            "  Created wheel for torch-geometric: filename=torch_geometric-1.4.2-cp36-none-any.whl size=224447 sha256=42b3e532bba0799f64fd3fcdeedcc080751870ee427e30f01beb2d5699709d6d\n",
            "  Stored in directory: /root/.cache/pip/wheels/0f/9d/a3/2de0c1fb436ec76e2942b4216b820589d40bc48395995c3076\n",
            "  Building wheel for plyfile (setup.py) ... \u001b[?25l\u001b[?25hdone\n",
            "  Created wheel for plyfile: filename=plyfile-0.7.1-cp36-none-any.whl size=32828 sha256=4d8cc9751f6d4ac88aa670a387ba45729418af3d826d83b887063acf0dc3708e\n",
            "  Stored in directory: /root/.cache/pip/wheels/d6/0d/bf/6d603d81b98604d2ecfd5e99d4ab7c9af664fd5285ab82bbb0\n",
            "Successfully built torch-geometric plyfile\n",
            "Installing collected packages: plyfile, isodate, rdflib, torch-geometric\n",
            "Successfully installed isodate-0.6.0 plyfile-0.7.1 rdflib-4.2.2 torch-geometric-1.4.2\n"
          ],
          "name": "stdout"
        }
      ]
    },
    {
      "cell_type": "markdown",
      "metadata": {
        "id": "KSPrkicLrteR",
        "colab_type": "text"
      },
      "source": [
        "#Load Dependencies"
      ]
    },
    {
      "cell_type": "code",
      "metadata": {
        "id": "YeA0slcJnQik",
        "colab_type": "code",
        "colab": {}
      },
      "source": [
        "from sklearn.linear_model import LogisticRegression\n",
        "from sklearn.model_selection import train_test_split\n",
        "import numpy as np\n",
        "import os.path as osp\n",
        "import torch\n",
        "import torch.nn.functional as F\n",
        "from torch_geometric.nn import SplineConv\n",
        "from torch_geometric.data import Data\n",
        "from random import shuffle, randint\n",
        "import networkx as nx\n",
        "import matplotlib.pyplot as plt\n",
        "import random \n",
        "import csv\n",
        "\n",
        "\n"
      ],
      "execution_count": 0,
      "outputs": []
    },
    {
      "cell_type": "markdown",
      "metadata": {
        "id": "9qPGrMMasO32",
        "colab_type": "text"
      },
      "source": [
        "#Load Data"
      ]
    },
    {
      "cell_type": "code",
      "metadata": {
        "id": "Zy9oRM25satA",
        "colab_type": "code",
        "colab": {}
      },
      "source": [
        "G = nx.read_weighted_edgelist('edgelist.txt', create_using=nx.DiGraph())\n",
        "G.add_node('17591')"
      ],
      "execution_count": 0,
      "outputs": []
    },
    {
      "cell_type": "code",
      "metadata": {
        "id": "pLXlutQ_gBZE",
        "colab_type": "code",
        "colab": {}
      },
      "source": [
        "with open(\"train.csv\") as f :\n",
        "  train_data = f.read().splitlines()\n",
        "train_hosts = list()\n",
        "\n",
        "y_train = list()\n",
        "for row in train_data:\n",
        "    host, label = row.split(\",\")\n",
        "    train_hosts.append(host)\n",
        "    y_train.append(label.lower())\n"
      ],
      "execution_count": 0,
      "outputs": []
    },
    {
      "cell_type": "markdown",
      "metadata": {
        "id": "Dt0QIUSnsc0L",
        "colab_type": "text"
      },
      "source": [
        "#Categorical Encoding Using Label Encoding"
      ]
    },
    {
      "cell_type": "code",
      "metadata": {
        "id": "N1bbGFu6shHR",
        "colab_type": "code",
        "colab": {}
      },
      "source": [
        "from sklearn import preprocessing\n",
        "le = preprocessing.LabelEncoder()\n",
        "le.fit(y_train)\n",
        "le.classes_\n",
        "y_train_num = le.transform(y_train)"
      ],
      "execution_count": 0,
      "outputs": []
    },
    {
      "cell_type": "markdown",
      "metadata": {
        "id": "TFVIsEJlsomw",
        "colab_type": "text"
      },
      "source": [
        "# Labels Matrix"
      ]
    },
    {
      "cell_type": "code",
      "metadata": {
        "id": "1PDSj_yVmB8s",
        "colab_type": "code",
        "colab": {}
      },
      "source": [
        "labels=np.zeros((G.number_of_nodes()))\n",
        "for i,host in enumerate(train_hosts):\n",
        "  labels[int(host)]=y_train_num[i]"
      ],
      "execution_count": 0,
      "outputs": []
    },
    {
      "cell_type": "markdown",
      "metadata": {
        "id": "twXcxli0sram",
        "colab_type": "text"
      },
      "source": [
        "# Train And Test Index"
      ]
    },
    {
      "cell_type": "code",
      "metadata": {
        "id": "pxAq5sKEmWLl",
        "colab_type": "code",
        "colab": {}
      },
      "source": [
        "from sklearn.model_selection import train_test_split\n",
        "\n",
        "idx = np.array([int(u) for u in train_hosts ], dtype=np.int32)\n",
        "idx_train, idx_val = train_test_split(idx, test_size=0.2)\n"
      ],
      "execution_count": 0,
      "outputs": []
    },
    {
      "cell_type": "markdown",
      "metadata": {
        "id": "80G_TfWpsxkk",
        "colab_type": "text"
      },
      "source": [
        "# Train And Test Mask"
      ]
    },
    {
      "cell_type": "code",
      "metadata": {
        "id": "KjyweS5PswDY",
        "colab_type": "code",
        "colab": {}
      },
      "source": [
        "train_mask=np.array([False]*(G.number_of_nodes()+1))\n",
        "train_mask[idx_train]=True\n",
        "\n",
        "val_mask=np.array([False]*(G.number_of_nodes()+1))\n",
        "val_mask[idx_val]=True"
      ],
      "execution_count": 0,
      "outputs": []
    },
    {
      "cell_type": "markdown",
      "metadata": {
        "id": "gZG8wHG6tAh_",
        "colab_type": "text"
      },
      "source": [
        "#Create a data structure "
      ]
    },
    {
      "cell_type": "code",
      "metadata": {
        "id": "ngdkFUSRZdPo",
        "colab_type": "code",
        "colab": {}
      },
      "source": [
        "from  torch_geometric.utils import from_networkx"
      ],
      "execution_count": 0,
      "outputs": []
    },
    {
      "cell_type": "code",
      "metadata": {
        "id": "Gjq99lv8ihgL",
        "colab_type": "code",
        "colab": {}
      },
      "source": [
        "G_ = nx.read_weighted_edgelist('edgelist.txt', create_using=nx.DiGraph(),nodetype = int)\n",
        "G_.add_node(17591)\n",
        "Lata = from_networkx(G_)"
      ],
      "execution_count": 0,
      "outputs": []
    },
    {
      "cell_type": "code",
      "metadata": {
        "id": "9mpzP0nHmkoW",
        "colab_type": "code",
        "colab": {}
      },
      "source": [
        "x = torch.tensor(np.load(\"pretrained_embeddings.npy\"), dtype=torch.float)\n",
        "y = torch.tensor(labels, dtype=torch.long)\n",
        "data = Data(x = x, edge_index= Lata.edge_index, y =y, edge_attr=Lata.weight )\n"
      ],
      "execution_count": 0,
      "outputs": []
    },
    {
      "cell_type": "markdown",
      "metadata": {
        "id": "bGcoGWzKlkHy",
        "colab_type": "text"
      },
      "source": [
        "We will create a trian/test mask where we split the data into training and test. This is necessary because during optimizing the loss when training we don't want to include the nodes part of the testing process "
      ]
    },
    {
      "cell_type": "code",
      "metadata": {
        "id": "WRwBaYmyoLDX",
        "colab_type": "code",
        "colab": {}
      },
      "source": [
        "data.train_mask = torch.zeros(data.num_nodes, dtype=torch.uint8)\n",
        "data.train_mask[idx_train] = 1 #train only on the 80% nodes\n",
        "data.test_mask = torch.zeros(data.num_nodes, dtype=torch.uint8) #test on 20 % nodes \n",
        "data.test_mask[idx_val] = 1"
      ],
      "execution_count": 0,
      "outputs": []
    },
    {
      "cell_type": "markdown",
      "metadata": {
        "id": "H2YFmL6kl5Dh",
        "colab_type": "text"
      },
      "source": [
        "# Deep GCN\n",
        "\n",
        "We will use [SplineConv](https://arxiv.org/abs/1711.08920) layer for the convolution. We will illsue exponential ReLU as an activation function and dropout for regulaization"
      ]
    },
    {
      "cell_type": "code",
      "metadata": {
        "id": "MTlX4IBkoOnm",
        "colab_type": "code",
        "colab": {}
      },
      "source": [
        "from torch.autograd import Variable\n",
        "from torch.nn import  Parameter\n",
        "import torch.nn as nn\n",
        "from torch_geometric.nn import GATConv,ChebConv,GCNConv\n",
        "\n",
        "class ChebNet(torch.nn.Module):\n",
        "    def __init__(self):\n",
        "        super(ChebNet, self).__init__()\n",
        "        \n",
        "        \n",
        "        self.conv1 = ChebConv(256, 16, K=2)\n",
        "        self.conv2 = ChebConv(16, 8, K=2)      \n",
        "\n",
        "    def forward(self):\n",
        "        x, edge_index, edge_weight = data.x, data.edge_index, data.edge_attr\n",
        "        x = F.relu(self.conv1(x, edge_index, edge_weight))\n",
        "        x = F.dropout(x, training=self.training)\n",
        "        x = self.conv2(x, edge_index, edge_weight)\n",
        "        return F.log_softmax(x, dim=1),x\n",
        "\n",
        "class SplineNet(torch.nn.Module):\n",
        "    def __init__(self):\n",
        "        super(SplineNet, self).__init__()\n",
        "        self.conv1 = SplineConv(256, 16, dim=1, kernel_size=2)\n",
        "        self.conv2 = SplineConv(16, 8, dim=1, kernel_size=2)\n",
        "\n",
        "    def forward(self):\n",
        "        x, edge_index, edge_attr = data.x, data.edge_index, data.edge_attr\n",
        "        x = F.dropout(x, training=self.training)\n",
        "        x = F.elu(self.conv1(x, edge_index, edge_attr))\n",
        "        x = F.dropout(x, training=self.training)\n",
        "        x = self.conv2(x, edge_index, edge_attr)\n",
        "        return F.log_softmax(x, dim=1),x\n",
        "\n",
        "class GATNet(torch.nn.Module):\n",
        "    def __init__(self):\n",
        "        super(GATNet, self).__init__()\n",
        "        self.conv1 = GATConv(256, 8, heads=8, dropout=0.6)\n",
        "        # On the Pubmed dataset, use heads=8 in conv2.\n",
        "        self.conv2 = GATConv(8 * 8, 256, heads=1, concat=True, dropout=0.6)\n",
        "\n",
        "    def forward(self):\n",
        "        x = F.dropout(data.x, p=0.6, training=self.training)\n",
        "        x = F.elu(self.conv1(x, data.edge_index))\n",
        "        x = F.dropout(x, p=0.6, training=self.training)\n",
        "        x = self.conv2(x, data.edge_index)\n",
        "        return F.log_softmax(x, dim=1),x\n"
      ],
      "execution_count": 0,
      "outputs": []
    },
    {
      "cell_type": "markdown",
      "metadata": {
        "id": "pULYL97tmYel",
        "colab_type": "text"
      },
      "source": [
        "# Optimization \n",
        "\n",
        "We will use nll_loss which can be used for classification of arbitrary classes"
      ]
    },
    {
      "cell_type": "code",
      "metadata": {
        "id": "Hhabp4QvoP6V",
        "colab_type": "code",
        "colab": {}
      },
      "source": [
        "def evaluate_loss(mode = 'train'):\n",
        "  \n",
        "  #use masking for loss evaluation \n",
        "  if mode == 'train':\n",
        "    out,embdings=model()\n",
        "    loss = F.nll_loss(out[data.train_mask], data.y[data.train_mask])\n",
        "  else:\n",
        "    out,embdings=model()\n",
        "    loss = F.nll_loss(out[data.test_mask], data.y[data.test_mask])\n",
        "  return loss,embdings\n",
        "\n",
        "def train():\n",
        "  #training \n",
        "  model.train()\n",
        "  optimizer.zero_grad()\n",
        "  loss,embdings = evaluate_loss()\n",
        "  loss.backward()\n",
        "  optimizer.step()\n",
        "  return loss.detach().cpu().numpy() ,embdings.detach().cpu().numpy() \n",
        "\n",
        "def test():\n",
        "  #testing \n",
        "  model.eval()\n",
        "  logits,_ = model() \n",
        "  accs=[]\n",
        "  loss,embdings = evaluate_loss(mode = 'test')\n",
        "  loss=loss.detach().cpu().numpy() \n",
        "\n",
        "  for _, mask in data('train_mask', 'test_mask'):\n",
        "      pred = logits[mask].max(1)[1]\n",
        "      acc = pred.eq(data.y[mask]).sum().item() / mask.sum().item()\n",
        "      accs.append(acc)\n",
        "  return [loss] + accs"
      ],
      "execution_count": 0,
      "outputs": []
    },
    {
      "cell_type": "markdown",
      "metadata": {
        "id": "y0XicLqpmqwR",
        "colab_type": "text"
      },
      "source": [
        "# Setup the model \n",
        "We will create the model and setup training using adam optimizer"
      ]
    },
    {
      "cell_type": "code",
      "metadata": {
        "id": "sDvcl5eLoRb3",
        "colab_type": "code",
        "colab": {}
      },
      "source": [
        "\n",
        "device = torch.device('cuda' if torch.cuda.is_available() else 'cpu')\n",
        "model, data = ChebNet().to(device), data.to(device)\n",
        "optimizer =  torch.optim.Adam(model.parameters(), lr=0.005, weight_decay=5e-3)"
      ],
      "execution_count": 0,
      "outputs": []
    },
    {
      "cell_type": "markdown",
      "metadata": {
        "id": "FyyfCGZimtX2",
        "colab_type": "text"
      },
      "source": [
        "# Training and Testing"
      ]
    },
    {
      "cell_type": "code",
      "metadata": {
        "id": "qsslw_68oS52",
        "colab_type": "code",
        "outputId": "bc79eef3-79b2-43b7-84bc-e790021a79ac",
        "colab": {
          "base_uri": "https://localhost:8080/",
          "height": 1000
        }
      },
      "source": [
        "from warnings import filterwarnings\n",
        "filterwarnings(\"ignore\")\n",
        "    \n",
        "losses = []\n",
        "for epoch in range(1, 200):\n",
        "  train_loss,embdings = train()\n",
        "  log = 'Epoch: {:03d}, train_loss: {:.3f}, test_loss:{:.3f}, train_acc: {:.2f}, test_acc: {:.2f}'\n",
        "  test_loss = test()[0]\n",
        "  losses.append([train_loss,test_loss])\n",
        "  print(log.format(epoch, train_loss, *test()))"
      ],
      "execution_count": 22,
      "outputs": [
        {
          "output_type": "stream",
          "text": [
            "Epoch: 001, train_loss: 2.405, test_loss:2.203, train_acc: 0.22, test_acc: 0.24\n",
            "Epoch: 002, train_loss: 2.144, test_loss:2.120, train_acc: 0.25, test_acc: 0.24\n",
            "Epoch: 003, train_loss: 2.095, test_loss:2.077, train_acc: 0.25, test_acc: 0.27\n",
            "Epoch: 004, train_loss: 2.080, test_loss:2.057, train_acc: 0.27, test_acc: 0.28\n",
            "Epoch: 005, train_loss: 2.011, test_loss:2.046, train_acc: 0.30, test_acc: 0.29\n",
            "Epoch: 006, train_loss: 2.000, test_loss:2.035, train_acc: 0.32, test_acc: 0.31\n",
            "Epoch: 007, train_loss: 1.979, test_loss:2.025, train_acc: 0.34, test_acc: 0.32\n",
            "Epoch: 008, train_loss: 1.960, test_loss:2.018, train_acc: 0.34, test_acc: 0.33\n",
            "Epoch: 009, train_loss: 1.943, test_loss:2.010, train_acc: 0.35, test_acc: 0.33\n",
            "Epoch: 010, train_loss: 1.930, test_loss:2.000, train_acc: 0.37, test_acc: 0.33\n",
            "Epoch: 011, train_loss: 1.921, test_loss:1.981, train_acc: 0.37, test_acc: 0.34\n",
            "Epoch: 012, train_loss: 1.896, test_loss:1.965, train_acc: 0.38, test_acc: 0.34\n",
            "Epoch: 013, train_loss: 1.887, test_loss:1.944, train_acc: 0.38, test_acc: 0.37\n",
            "Epoch: 014, train_loss: 1.876, test_loss:1.920, train_acc: 0.39, test_acc: 0.37\n",
            "Epoch: 015, train_loss: 1.872, test_loss:1.897, train_acc: 0.40, test_acc: 0.38\n",
            "Epoch: 016, train_loss: 1.829, test_loss:1.875, train_acc: 0.40, test_acc: 0.38\n",
            "Epoch: 017, train_loss: 1.800, test_loss:1.852, train_acc: 0.42, test_acc: 0.39\n",
            "Epoch: 018, train_loss: 1.776, test_loss:1.829, train_acc: 0.42, test_acc: 0.40\n",
            "Epoch: 019, train_loss: 1.768, test_loss:1.804, train_acc: 0.43, test_acc: 0.41\n",
            "Epoch: 020, train_loss: 1.760, test_loss:1.777, train_acc: 0.43, test_acc: 0.43\n",
            "Epoch: 021, train_loss: 1.742, test_loss:1.756, train_acc: 0.43, test_acc: 0.44\n",
            "Epoch: 022, train_loss: 1.739, test_loss:1.740, train_acc: 0.44, test_acc: 0.44\n",
            "Epoch: 023, train_loss: 1.715, test_loss:1.729, train_acc: 0.45, test_acc: 0.44\n",
            "Epoch: 024, train_loss: 1.726, test_loss:1.720, train_acc: 0.45, test_acc: 0.44\n",
            "Epoch: 025, train_loss: 1.705, test_loss:1.715, train_acc: 0.45, test_acc: 0.45\n",
            "Epoch: 026, train_loss: 1.658, test_loss:1.707, train_acc: 0.45, test_acc: 0.46\n",
            "Epoch: 027, train_loss: 1.665, test_loss:1.694, train_acc: 0.46, test_acc: 0.45\n",
            "Epoch: 028, train_loss: 1.651, test_loss:1.682, train_acc: 0.46, test_acc: 0.44\n",
            "Epoch: 029, train_loss: 1.635, test_loss:1.663, train_acc: 0.46, test_acc: 0.45\n",
            "Epoch: 030, train_loss: 1.634, test_loss:1.646, train_acc: 0.46, test_acc: 0.46\n",
            "Epoch: 031, train_loss: 1.627, test_loss:1.632, train_acc: 0.46, test_acc: 0.46\n",
            "Epoch: 032, train_loss: 1.617, test_loss:1.623, train_acc: 0.47, test_acc: 0.46\n",
            "Epoch: 033, train_loss: 1.625, test_loss:1.617, train_acc: 0.47, test_acc: 0.46\n",
            "Epoch: 034, train_loss: 1.607, test_loss:1.612, train_acc: 0.48, test_acc: 0.47\n",
            "Epoch: 035, train_loss: 1.610, test_loss:1.610, train_acc: 0.48, test_acc: 0.48\n",
            "Epoch: 036, train_loss: 1.602, test_loss:1.611, train_acc: 0.49, test_acc: 0.48\n",
            "Epoch: 037, train_loss: 1.577, test_loss:1.608, train_acc: 0.49, test_acc: 0.48\n",
            "Epoch: 038, train_loss: 1.582, test_loss:1.605, train_acc: 0.50, test_acc: 0.48\n",
            "Epoch: 039, train_loss: 1.566, test_loss:1.599, train_acc: 0.50, test_acc: 0.48\n",
            "Epoch: 040, train_loss: 1.557, test_loss:1.590, train_acc: 0.50, test_acc: 0.48\n",
            "Epoch: 041, train_loss: 1.566, test_loss:1.583, train_acc: 0.50, test_acc: 0.49\n",
            "Epoch: 042, train_loss: 1.554, test_loss:1.575, train_acc: 0.50, test_acc: 0.49\n",
            "Epoch: 043, train_loss: 1.533, test_loss:1.569, train_acc: 0.50, test_acc: 0.49\n",
            "Epoch: 044, train_loss: 1.522, test_loss:1.564, train_acc: 0.50, test_acc: 0.49\n",
            "Epoch: 045, train_loss: 1.511, test_loss:1.558, train_acc: 0.51, test_acc: 0.49\n",
            "Epoch: 046, train_loss: 1.520, test_loss:1.554, train_acc: 0.51, test_acc: 0.49\n",
            "Epoch: 047, train_loss: 1.537, test_loss:1.551, train_acc: 0.51, test_acc: 0.48\n",
            "Epoch: 048, train_loss: 1.510, test_loss:1.545, train_acc: 0.51, test_acc: 0.48\n",
            "Epoch: 049, train_loss: 1.513, test_loss:1.541, train_acc: 0.51, test_acc: 0.48\n",
            "Epoch: 050, train_loss: 1.496, test_loss:1.538, train_acc: 0.52, test_acc: 0.48\n",
            "Epoch: 051, train_loss: 1.486, test_loss:1.533, train_acc: 0.52, test_acc: 0.48\n",
            "Epoch: 052, train_loss: 1.470, test_loss:1.528, train_acc: 0.52, test_acc: 0.48\n",
            "Epoch: 053, train_loss: 1.479, test_loss:1.521, train_acc: 0.52, test_acc: 0.48\n",
            "Epoch: 054, train_loss: 1.470, test_loss:1.517, train_acc: 0.52, test_acc: 0.48\n",
            "Epoch: 055, train_loss: 1.478, test_loss:1.513, train_acc: 0.52, test_acc: 0.49\n",
            "Epoch: 056, train_loss: 1.453, test_loss:1.512, train_acc: 0.53, test_acc: 0.49\n",
            "Epoch: 057, train_loss: 1.460, test_loss:1.513, train_acc: 0.53, test_acc: 0.49\n",
            "Epoch: 058, train_loss: 1.467, test_loss:1.508, train_acc: 0.53, test_acc: 0.49\n",
            "Epoch: 059, train_loss: 1.462, test_loss:1.506, train_acc: 0.53, test_acc: 0.49\n",
            "Epoch: 060, train_loss: 1.440, test_loss:1.507, train_acc: 0.54, test_acc: 0.49\n",
            "Epoch: 061, train_loss: 1.431, test_loss:1.507, train_acc: 0.54, test_acc: 0.49\n",
            "Epoch: 062, train_loss: 1.461, test_loss:1.506, train_acc: 0.54, test_acc: 0.49\n",
            "Epoch: 063, train_loss: 1.452, test_loss:1.500, train_acc: 0.54, test_acc: 0.49\n",
            "Epoch: 064, train_loss: 1.427, test_loss:1.495, train_acc: 0.54, test_acc: 0.48\n",
            "Epoch: 065, train_loss: 1.427, test_loss:1.494, train_acc: 0.54, test_acc: 0.49\n",
            "Epoch: 066, train_loss: 1.413, test_loss:1.490, train_acc: 0.54, test_acc: 0.49\n",
            "Epoch: 067, train_loss: 1.402, test_loss:1.487, train_acc: 0.54, test_acc: 0.50\n",
            "Epoch: 068, train_loss: 1.413, test_loss:1.485, train_acc: 0.54, test_acc: 0.50\n",
            "Epoch: 069, train_loss: 1.393, test_loss:1.481, train_acc: 0.54, test_acc: 0.51\n",
            "Epoch: 070, train_loss: 1.391, test_loss:1.476, train_acc: 0.55, test_acc: 0.51\n",
            "Epoch: 071, train_loss: 1.396, test_loss:1.472, train_acc: 0.56, test_acc: 0.50\n",
            "Epoch: 072, train_loss: 1.407, test_loss:1.469, train_acc: 0.56, test_acc: 0.50\n",
            "Epoch: 073, train_loss: 1.393, test_loss:1.470, train_acc: 0.56, test_acc: 0.50\n",
            "Epoch: 074, train_loss: 1.391, test_loss:1.469, train_acc: 0.56, test_acc: 0.50\n",
            "Epoch: 075, train_loss: 1.384, test_loss:1.468, train_acc: 0.56, test_acc: 0.50\n",
            "Epoch: 076, train_loss: 1.369, test_loss:1.466, train_acc: 0.56, test_acc: 0.50\n",
            "Epoch: 077, train_loss: 1.376, test_loss:1.465, train_acc: 0.56, test_acc: 0.51\n",
            "Epoch: 078, train_loss: 1.358, test_loss:1.465, train_acc: 0.56, test_acc: 0.50\n",
            "Epoch: 079, train_loss: 1.365, test_loss:1.466, train_acc: 0.56, test_acc: 0.50\n",
            "Epoch: 080, train_loss: 1.357, test_loss:1.464, train_acc: 0.57, test_acc: 0.51\n",
            "Epoch: 081, train_loss: 1.352, test_loss:1.456, train_acc: 0.57, test_acc: 0.51\n",
            "Epoch: 082, train_loss: 1.334, test_loss:1.452, train_acc: 0.57, test_acc: 0.51\n",
            "Epoch: 083, train_loss: 1.316, test_loss:1.448, train_acc: 0.57, test_acc: 0.50\n",
            "Epoch: 084, train_loss: 1.343, test_loss:1.442, train_acc: 0.57, test_acc: 0.50\n",
            "Epoch: 085, train_loss: 1.337, test_loss:1.436, train_acc: 0.57, test_acc: 0.50\n",
            "Epoch: 086, train_loss: 1.319, test_loss:1.432, train_acc: 0.57, test_acc: 0.50\n",
            "Epoch: 087, train_loss: 1.329, test_loss:1.433, train_acc: 0.57, test_acc: 0.51\n",
            "Epoch: 088, train_loss: 1.361, test_loss:1.436, train_acc: 0.57, test_acc: 0.50\n",
            "Epoch: 089, train_loss: 1.326, test_loss:1.441, train_acc: 0.58, test_acc: 0.50\n",
            "Epoch: 090, train_loss: 1.316, test_loss:1.444, train_acc: 0.58, test_acc: 0.51\n",
            "Epoch: 091, train_loss: 1.329, test_loss:1.447, train_acc: 0.58, test_acc: 0.51\n",
            "Epoch: 092, train_loss: 1.314, test_loss:1.448, train_acc: 0.58, test_acc: 0.51\n",
            "Epoch: 093, train_loss: 1.328, test_loss:1.440, train_acc: 0.58, test_acc: 0.51\n",
            "Epoch: 094, train_loss: 1.318, test_loss:1.432, train_acc: 0.59, test_acc: 0.51\n",
            "Epoch: 095, train_loss: 1.313, test_loss:1.426, train_acc: 0.59, test_acc: 0.51\n",
            "Epoch: 096, train_loss: 1.328, test_loss:1.421, train_acc: 0.59, test_acc: 0.51\n",
            "Epoch: 097, train_loss: 1.306, test_loss:1.421, train_acc: 0.59, test_acc: 0.52\n",
            "Epoch: 098, train_loss: 1.297, test_loss:1.420, train_acc: 0.59, test_acc: 0.51\n",
            "Epoch: 099, train_loss: 1.282, test_loss:1.421, train_acc: 0.59, test_acc: 0.51\n",
            "Epoch: 100, train_loss: 1.301, test_loss:1.422, train_acc: 0.59, test_acc: 0.51\n",
            "Epoch: 101, train_loss: 1.299, test_loss:1.417, train_acc: 0.59, test_acc: 0.50\n",
            "Epoch: 102, train_loss: 1.291, test_loss:1.415, train_acc: 0.60, test_acc: 0.51\n",
            "Epoch: 103, train_loss: 1.283, test_loss:1.413, train_acc: 0.60, test_acc: 0.50\n",
            "Epoch: 104, train_loss: 1.292, test_loss:1.416, train_acc: 0.61, test_acc: 0.50\n",
            "Epoch: 105, train_loss: 1.295, test_loss:1.417, train_acc: 0.61, test_acc: 0.50\n",
            "Epoch: 106, train_loss: 1.280, test_loss:1.419, train_acc: 0.61, test_acc: 0.50\n",
            "Epoch: 107, train_loss: 1.262, test_loss:1.420, train_acc: 0.62, test_acc: 0.50\n",
            "Epoch: 108, train_loss: 1.265, test_loss:1.425, train_acc: 0.61, test_acc: 0.52\n",
            "Epoch: 109, train_loss: 1.273, test_loss:1.428, train_acc: 0.61, test_acc: 0.52\n",
            "Epoch: 110, train_loss: 1.256, test_loss:1.437, train_acc: 0.61, test_acc: 0.52\n",
            "Epoch: 111, train_loss: 1.262, test_loss:1.431, train_acc: 0.61, test_acc: 0.52\n",
            "Epoch: 112, train_loss: 1.252, test_loss:1.428, train_acc: 0.62, test_acc: 0.51\n",
            "Epoch: 113, train_loss: 1.243, test_loss:1.435, train_acc: 0.62, test_acc: 0.51\n",
            "Epoch: 114, train_loss: 1.247, test_loss:1.436, train_acc: 0.62, test_acc: 0.50\n",
            "Epoch: 115, train_loss: 1.253, test_loss:1.434, train_acc: 0.62, test_acc: 0.50\n",
            "Epoch: 116, train_loss: 1.247, test_loss:1.425, train_acc: 0.62, test_acc: 0.51\n",
            "Epoch: 117, train_loss: 1.260, test_loss:1.417, train_acc: 0.63, test_acc: 0.52\n",
            "Epoch: 118, train_loss: 1.228, test_loss:1.413, train_acc: 0.63, test_acc: 0.52\n",
            "Epoch: 119, train_loss: 1.233, test_loss:1.411, train_acc: 0.64, test_acc: 0.53\n",
            "Epoch: 120, train_loss: 1.230, test_loss:1.415, train_acc: 0.65, test_acc: 0.52\n",
            "Epoch: 121, train_loss: 1.238, test_loss:1.425, train_acc: 0.65, test_acc: 0.52\n",
            "Epoch: 122, train_loss: 1.235, test_loss:1.430, train_acc: 0.65, test_acc: 0.52\n",
            "Epoch: 123, train_loss: 1.209, test_loss:1.428, train_acc: 0.65, test_acc: 0.53\n",
            "Epoch: 124, train_loss: 1.240, test_loss:1.422, train_acc: 0.64, test_acc: 0.54\n",
            "Epoch: 125, train_loss: 1.235, test_loss:1.416, train_acc: 0.64, test_acc: 0.54\n",
            "Epoch: 126, train_loss: 1.232, test_loss:1.410, train_acc: 0.64, test_acc: 0.53\n",
            "Epoch: 127, train_loss: 1.235, test_loss:1.401, train_acc: 0.64, test_acc: 0.53\n",
            "Epoch: 128, train_loss: 1.219, test_loss:1.398, train_acc: 0.65, test_acc: 0.52\n",
            "Epoch: 129, train_loss: 1.222, test_loss:1.403, train_acc: 0.65, test_acc: 0.52\n",
            "Epoch: 130, train_loss: 1.213, test_loss:1.412, train_acc: 0.65, test_acc: 0.52\n",
            "Epoch: 131, train_loss: 1.219, test_loss:1.423, train_acc: 0.66, test_acc: 0.52\n",
            "Epoch: 132, train_loss: 1.235, test_loss:1.431, train_acc: 0.66, test_acc: 0.53\n",
            "Epoch: 133, train_loss: 1.198, test_loss:1.438, train_acc: 0.66, test_acc: 0.54\n",
            "Epoch: 134, train_loss: 1.206, test_loss:1.449, train_acc: 0.66, test_acc: 0.54\n",
            "Epoch: 135, train_loss: 1.213, test_loss:1.461, train_acc: 0.67, test_acc: 0.53\n",
            "Epoch: 136, train_loss: 1.210, test_loss:1.466, train_acc: 0.67, test_acc: 0.53\n",
            "Epoch: 137, train_loss: 1.197, test_loss:1.470, train_acc: 0.67, test_acc: 0.53\n",
            "Epoch: 138, train_loss: 1.194, test_loss:1.470, train_acc: 0.67, test_acc: 0.53\n",
            "Epoch: 139, train_loss: 1.207, test_loss:1.460, train_acc: 0.66, test_acc: 0.54\n",
            "Epoch: 140, train_loss: 1.182, test_loss:1.452, train_acc: 0.66, test_acc: 0.54\n",
            "Epoch: 141, train_loss: 1.187, test_loss:1.448, train_acc: 0.66, test_acc: 0.53\n",
            "Epoch: 142, train_loss: 1.220, test_loss:1.445, train_acc: 0.66, test_acc: 0.52\n",
            "Epoch: 143, train_loss: 1.196, test_loss:1.445, train_acc: 0.66, test_acc: 0.52\n",
            "Epoch: 144, train_loss: 1.184, test_loss:1.446, train_acc: 0.67, test_acc: 0.52\n",
            "Epoch: 145, train_loss: 1.194, test_loss:1.442, train_acc: 0.67, test_acc: 0.52\n",
            "Epoch: 146, train_loss: 1.173, test_loss:1.443, train_acc: 0.67, test_acc: 0.52\n",
            "Epoch: 147, train_loss: 1.188, test_loss:1.443, train_acc: 0.67, test_acc: 0.53\n",
            "Epoch: 148, train_loss: 1.185, test_loss:1.444, train_acc: 0.67, test_acc: 0.52\n",
            "Epoch: 149, train_loss: 1.167, test_loss:1.447, train_acc: 0.66, test_acc: 0.53\n",
            "Epoch: 150, train_loss: 1.176, test_loss:1.453, train_acc: 0.66, test_acc: 0.52\n",
            "Epoch: 151, train_loss: 1.186, test_loss:1.456, train_acc: 0.66, test_acc: 0.53\n",
            "Epoch: 152, train_loss: 1.176, test_loss:1.458, train_acc: 0.67, test_acc: 0.54\n",
            "Epoch: 153, train_loss: 1.157, test_loss:1.462, train_acc: 0.67, test_acc: 0.55\n",
            "Epoch: 154, train_loss: 1.187, test_loss:1.460, train_acc: 0.67, test_acc: 0.55\n",
            "Epoch: 155, train_loss: 1.178, test_loss:1.455, train_acc: 0.67, test_acc: 0.55\n",
            "Epoch: 156, train_loss: 1.137, test_loss:1.452, train_acc: 0.67, test_acc: 0.55\n",
            "Epoch: 157, train_loss: 1.167, test_loss:1.451, train_acc: 0.67, test_acc: 0.54\n",
            "Epoch: 158, train_loss: 1.151, test_loss:1.451, train_acc: 0.68, test_acc: 0.54\n",
            "Epoch: 159, train_loss: 1.159, test_loss:1.457, train_acc: 0.68, test_acc: 0.53\n",
            "Epoch: 160, train_loss: 1.144, test_loss:1.466, train_acc: 0.68, test_acc: 0.54\n",
            "Epoch: 161, train_loss: 1.149, test_loss:1.464, train_acc: 0.68, test_acc: 0.54\n",
            "Epoch: 162, train_loss: 1.150, test_loss:1.455, train_acc: 0.68, test_acc: 0.55\n",
            "Epoch: 163, train_loss: 1.161, test_loss:1.447, train_acc: 0.68, test_acc: 0.55\n",
            "Epoch: 164, train_loss: 1.154, test_loss:1.440, train_acc: 0.68, test_acc: 0.55\n",
            "Epoch: 165, train_loss: 1.177, test_loss:1.438, train_acc: 0.68, test_acc: 0.55\n",
            "Epoch: 166, train_loss: 1.138, test_loss:1.442, train_acc: 0.68, test_acc: 0.54\n",
            "Epoch: 167, train_loss: 1.136, test_loss:1.443, train_acc: 0.69, test_acc: 0.54\n",
            "Epoch: 168, train_loss: 1.140, test_loss:1.445, train_acc: 0.69, test_acc: 0.55\n",
            "Epoch: 169, train_loss: 1.117, test_loss:1.447, train_acc: 0.69, test_acc: 0.55\n",
            "Epoch: 170, train_loss: 1.156, test_loss:1.448, train_acc: 0.69, test_acc: 0.56\n",
            "Epoch: 171, train_loss: 1.147, test_loss:1.450, train_acc: 0.69, test_acc: 0.56\n",
            "Epoch: 172, train_loss: 1.144, test_loss:1.444, train_acc: 0.69, test_acc: 0.55\n",
            "Epoch: 173, train_loss: 1.127, test_loss:1.436, train_acc: 0.69, test_acc: 0.54\n",
            "Epoch: 174, train_loss: 1.140, test_loss:1.430, train_acc: 0.69, test_acc: 0.56\n",
            "Epoch: 175, train_loss: 1.124, test_loss:1.429, train_acc: 0.70, test_acc: 0.55\n",
            "Epoch: 176, train_loss: 1.141, test_loss:1.435, train_acc: 0.70, test_acc: 0.55\n",
            "Epoch: 177, train_loss: 1.141, test_loss:1.447, train_acc: 0.70, test_acc: 0.56\n",
            "Epoch: 178, train_loss: 1.149, test_loss:1.459, train_acc: 0.70, test_acc: 0.55\n",
            "Epoch: 179, train_loss: 1.138, test_loss:1.474, train_acc: 0.70, test_acc: 0.55\n",
            "Epoch: 180, train_loss: 1.109, test_loss:1.482, train_acc: 0.70, test_acc: 0.55\n",
            "Epoch: 181, train_loss: 1.128, test_loss:1.463, train_acc: 0.70, test_acc: 0.56\n",
            "Epoch: 182, train_loss: 1.142, test_loss:1.447, train_acc: 0.70, test_acc: 0.56\n",
            "Epoch: 183, train_loss: 1.125, test_loss:1.440, train_acc: 0.70, test_acc: 0.56\n",
            "Epoch: 184, train_loss: 1.108, test_loss:1.445, train_acc: 0.70, test_acc: 0.56\n",
            "Epoch: 185, train_loss: 1.106, test_loss:1.453, train_acc: 0.70, test_acc: 0.56\n",
            "Epoch: 186, train_loss: 1.112, test_loss:1.452, train_acc: 0.70, test_acc: 0.56\n",
            "Epoch: 187, train_loss: 1.126, test_loss:1.436, train_acc: 0.71, test_acc: 0.56\n",
            "Epoch: 188, train_loss: 1.131, test_loss:1.425, train_acc: 0.71, test_acc: 0.56\n",
            "Epoch: 189, train_loss: 1.113, test_loss:1.420, train_acc: 0.71, test_acc: 0.55\n",
            "Epoch: 190, train_loss: 1.129, test_loss:1.425, train_acc: 0.71, test_acc: 0.55\n",
            "Epoch: 191, train_loss: 1.132, test_loss:1.436, train_acc: 0.71, test_acc: 0.54\n",
            "Epoch: 192, train_loss: 1.117, test_loss:1.447, train_acc: 0.71, test_acc: 0.55\n",
            "Epoch: 193, train_loss: 1.088, test_loss:1.456, train_acc: 0.71, test_acc: 0.56\n",
            "Epoch: 194, train_loss: 1.115, test_loss:1.463, train_acc: 0.71, test_acc: 0.55\n",
            "Epoch: 195, train_loss: 1.115, test_loss:1.464, train_acc: 0.71, test_acc: 0.55\n",
            "Epoch: 196, train_loss: 1.106, test_loss:1.464, train_acc: 0.71, test_acc: 0.55\n",
            "Epoch: 197, train_loss: 1.120, test_loss:1.455, train_acc: 0.71, test_acc: 0.55\n",
            "Epoch: 198, train_loss: 1.099, test_loss:1.448, train_acc: 0.71, test_acc: 0.54\n",
            "Epoch: 199, train_loss: 1.084, test_loss:1.448, train_acc: 0.72, test_acc: 0.54\n"
          ],
          "name": "stdout"
        }
      ]
    },
    {
      "cell_type": "markdown",
      "metadata": {
        "id": "W5Vgk_txuDXq",
        "colab_type": "text"
      },
      "source": [
        "#T-SNE Visualization"
      ]
    },
    {
      "cell_type": "code",
      "metadata": {
        "id": "zsm-GEsSwWLP",
        "colab_type": "code",
        "colab": {}
      },
      "source": [
        "out,embdings=model()"
      ],
      "execution_count": 0,
      "outputs": []
    },
    {
      "cell_type": "code",
      "metadata": {
        "id": "moQGTgNvws4D",
        "colab_type": "code",
        "colab": {}
      },
      "source": [
        "from sklearn.manifold import TSNE\n",
        "tsne = TSNE(n_components=2, perplexity=10)\n",
        "embeddings_test_2d = tsne.fit_transform(embdings.detach().cpu().numpy()[idx])"
      ],
      "execution_count": 0,
      "outputs": []
    },
    {
      "cell_type": "code",
      "metadata": {
        "id": "K-vcg9gawFbL",
        "colab_type": "code",
        "outputId": "aa080e28-940c-43af-a6ae-4faf18f5b0f4",
        "colab": {
          "base_uri": "https://localhost:8080/",
          "height": 602
        }
      },
      "source": [
        "\n",
        "labels_ =labels[idx]\n",
        "unique_labels = np.unique(labels_)\n",
        "\n",
        "colors = ['C'+str(i) for i in np.arange(10)]\n",
        "\n",
        "fig, ax = plt.subplots()\n",
        "for i in range(len(unique_labels)):\n",
        "    idxs = [j for j in range(len(labels_)) if labels_[j]==unique_labels[i]]\n",
        "    ax.scatter(embeddings_test_2d[idxs,0], \n",
        "               embeddings_test_2d[idxs,1], \n",
        "               c=colors[i],\n",
        "               label=i,\n",
        "               alpha=0.7,\n",
        "               s=10)\n",
        "\n",
        "ax.legend(scatterpoints=1)\n",
        "fig.suptitle('T-SNE Visualization of the nodes of the test set',fontsize=12)\n",
        "fig.set_size_inches(15,9)\n",
        "plt.show()"
      ],
      "execution_count": 25,
      "outputs": [
        {
          "output_type": "display_data",
          "data": {
            "image/png": "[encoded data removed]",
            "text/plain": [
              "<Figure size 1080x648 with 1 Axes>"
            ]
          },
          "metadata": {
            "tags": []
          }
        }
      ]
    },
    {
      "cell_type": "markdown",
      "metadata": {
        "id": "mvM6fsUduLky",
        "colab_type": "text"
      },
      "source": [
        "#Submission"
      ]
    },
    {
      "cell_type": "code",
      "metadata": {
        "id": "2gxlBAwyuX9T",
        "colab_type": "code",
        "colab": {}
      },
      "source": [
        "from scipy.special import softmax\n",
        "\n",
        "with open(\"test.csv\", 'r') as f:\n",
        "    test_hosts = f.read().splitlines()\n",
        "\n",
        "idx_test=np.array([int(u) for u in test_hosts])\n",
        "y_pred=softmax(embdings.detach().cpu().numpy()[idx_test])"
      ],
      "execution_count": 0,
      "outputs": []
    },
    {
      "cell_type": "code",
      "metadata": {
        "id": "zvIHo_kI6Lvl",
        "colab_type": "code",
        "colab": {}
      },
      "source": [
        "\n",
        "with open('graph_baseline.csv', 'w') as csvfile:\n",
        "    writer = csv.writer(csvfile, delimiter=',')\n",
        "    lst = list(le.inverse_transform(np.arange(8)))\n",
        "    lst.insert(0, \"Host\")\n",
        "    writer.writerow(lst)\n",
        "    for i,test_host in enumerate(test_hosts):\n",
        "        lst = y_pred[i,:].tolist()\n",
        "        lst.insert(0, test_host)\n",
        "        writer.writerow(lst)"
      ],
      "execution_count": 0,
      "outputs": []
    },
    {
      "cell_type": "markdown",
      "metadata": {
        "id": "adWu02_enxNp",
        "colab_type": "text"
      },
      "source": [
        "# References\n",
        "[1] https://github.com/rusty1s/pytorch_geometric\n",
        "\n",
        "[2] https://rusty1s.github.io/pytorch_geometric/build/html/notes/introduction.html\n",
        "\n",
        "[3] https://tkipf.github.io/graph-convolutional-networks/"
      ]
    }
  ]
}