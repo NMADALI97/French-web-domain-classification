{
  "nbformat": 4,
  "nbformat_minor": 0,
  "metadata": {
    "colab": {
      "name": "Node Embedding.ipynb",
      "provenance": [],
      "collapsed_sections": []
    },
    "kernelspec": {
      "name": "python3",
      "display_name": "Python 3"
    },
    "accelerator": "GPU"
  },
  "cells": [
    {
      "cell_type": "markdown",
      "metadata": {
        "id": "3SSzGP0Gl3c7",
        "colab_type": "text"
      },
      "source": [
        "#Install Dependencies"
      ]
    },
    {
      "cell_type": "code",
      "metadata": {
        "id": "OT0K5Gknp2G_",
        "colab_type": "code",
        "colab": {
          "base_uri": "https://localhost:8080/",
          "height": 104
        },
        "outputId": "0322ba65-3103-429f-b3d6-4993b351fe80"
      },
      "source": [
        "!git clone https://github.com/snap-stanford/snap\n",
        "import os \n",
        "os.chdir(\"snap/examples/node2vec/\")  "
      ],
      "execution_count": 1,
      "outputs": [
        {
          "output_type": "stream",
          "text": [
            "Cloning into 'snap'...\n",
            "remote: Enumerating objects: 12838, done.\u001b[K\n",
            "remote: Total 12838 (delta 0), reused 0 (delta 0), pack-reused 12838\u001b[K\n",
            "Receiving objects: 100% (12838/12838), 157.05 MiB | 27.02 MiB/s, done.\n",
            "Resolving deltas: 100% (9027/9027), done.\n"
          ],
          "name": "stdout"
        }
      ]
    },
    {
      "cell_type": "code",
      "metadata": {
        "id": "zyq2csaBp7I2",
        "colab_type": "code",
        "colab": {
          "base_uri": "https://localhost:8080/",
          "height": 1000
        },
        "outputId": "4e9bc3fa-f14f-43fa-cd75-0e556e20e684"
      },
      "source": [
        "!make"
      ],
      "execution_count": 2,
      "outputs": [
        {
          "output_type": "stream",
          "text": [
            "make -C ../../snap-core\n",
            "make[1]: Entering directory '/content/snap/snap-core'\n",
            "g++ -c -std=c++98 -Wall -O3 -DNDEBUG -fopenmp Snap.cpp -I../glib-core\n",
            "In file included from \u001b[01m\u001b[K../glib-core/base.h:182:0\u001b[m\u001b[K,\n",
            "                 from \u001b[01m\u001b[KSnap.h:9\u001b[m\u001b[K,\n",
            "                 from \u001b[01m\u001b[KSnap.cpp:4\u001b[m\u001b[K:\n",
            "\u001b[01m\u001b[K../glib-core/ds.h:\u001b[m\u001b[K In member function ‘\u001b[01m\u001b[Kbool TTuple<TVal, NVals>::operator==(const TTuple<TVal, NVals>&) const\u001b[m\u001b[K’:\n",
            "\u001b[01m\u001b[K../glib-core/ds.h:290:5:\u001b[m\u001b[K \u001b[01;35m\u001b[Kwarning: \u001b[m\u001b[Kthis ‘\u001b[01m\u001b[Kfor\u001b[m\u001b[K’ clause does not guard... [\u001b[01;35m\u001b[K-Wmisleading-indentation\u001b[m\u001b[K]\n",
            "     \u001b[01;35m\u001b[Kfor\u001b[m\u001b[K (int i=0; i<Len(); i++) if(ValV[i]!=Tup[i]){return false;} return true; }\n",
            "     \u001b[01;35m\u001b[K^~~\u001b[m\u001b[K\n",
            "\u001b[01m\u001b[K../glib-core/ds.h:290:68:\u001b[m\u001b[K \u001b[01;36m\u001b[Knote: \u001b[m\u001b[K...this statement, but the latter is misleadingly indented as if it were guarded by the ‘\u001b[01m\u001b[Kfor\u001b[m\u001b[K’\n",
            "     for (int i=0; i<Len(); i++) if(ValV[i]!=Tup[i]){return false;} \u001b[01;36m\u001b[Kreturn\u001b[m\u001b[K true; }\n",
            "                                                                    \u001b[01;36m\u001b[K^~~~~~\u001b[m\u001b[K\n",
            "In file included from \u001b[01m\u001b[KSnap.cpp:8:0\u001b[m\u001b[K:\n",
            "\u001b[01m\u001b[K../glib-core/linalg.cpp:\u001b[m\u001b[K In static member function ‘\u001b[01m\u001b[Kstatic void TNumericalStuff::LUSolve(const TFltVV&, const TIntV&, TFltV&)\u001b[m\u001b[K’:\n",
            "\u001b[01m\u001b[K../glib-core/linalg.cpp:985:9:\u001b[m\u001b[K \u001b[01;35m\u001b[Kwarning: \u001b[m\u001b[Kthis ‘\u001b[01m\u001b[Kelse\u001b[m\u001b[K’ clause does not guard... [\u001b[01;35m\u001b[K-Wmisleading-indentation\u001b[m\u001b[K]\n",
            "         \u001b[01;35m\u001b[Kelse\u001b[m\u001b[K if (sum) ii=i;b[i-1]=sum;\n",
            "         \u001b[01;35m\u001b[K^~~~\u001b[m\u001b[K\n",
            "\u001b[01m\u001b[K../glib-core/linalg.cpp:985:28:\u001b[m\u001b[K \u001b[01;36m\u001b[Knote: \u001b[m\u001b[K...this statement, but the latter is misleadingly indented as if it were guarded by the ‘\u001b[01m\u001b[Kelse\u001b[m\u001b[K’\n",
            "         else if (sum) ii=i;\u001b[01;36m\u001b[Kb\u001b[m\u001b[K[i-1]=sum;\n",
            "                            \u001b[01;36m\u001b[K^\u001b[m\u001b[K\n",
            "In file included from \u001b[01m\u001b[KSnap.cpp:24:0\u001b[m\u001b[K:\n",
            "\u001b[01m\u001b[Ktable.cpp:\u001b[m\u001b[K In member function ‘\u001b[01m\u001b[Kvoid TTable::GroupByIntColMP(const TStr&, THashMP<TInt, TVec<TInt, int> >&, TBool) const\u001b[m\u001b[K’:\n",
            "\u001b[01m\u001b[Ktable.cpp:1239:8:\u001b[m\u001b[K \u001b[01;35m\u001b[Kwarning: \u001b[m\u001b[Kvariable ‘\u001b[01m\u001b[KPartitionSize\u001b[m\u001b[K’ set but not used [\u001b[01;35m\u001b[K-Wunused-but-set-variable\u001b[m\u001b[K]\n",
            "   TInt \u001b[01;35m\u001b[KPartitionSize\u001b[m\u001b[K = Partitions[0].GetVal2()-Partitions[0].GetVal1()+1;\n",
            "        \u001b[01;35m\u001b[K^~~~~~~~~~~~~\u001b[m\u001b[K\n",
            "In file included from \u001b[01m\u001b[KSnap.cpp:24:0\u001b[m\u001b[K:\n",
            "\u001b[01m\u001b[Ktable.cpp:\u001b[m\u001b[K In member function ‘\u001b[01m\u001b[Kvoid TTable::SelectAtomicConst(const TStr&, const TPrimitive&, TPredComp, TIntV&, PTable&, TBool, TBool)\u001b[m\u001b[K’:\n",
            "\u001b[01m\u001b[Ktable.cpp:2891:12:\u001b[m\u001b[K \u001b[01;35m\u001b[Kwarning: \u001b[m\u001b[Kvariable ‘\u001b[01m\u001b[KPartitionSize\u001b[m\u001b[K’ set but not used [\u001b[01;35m\u001b[K-Wunused-but-set-variable\u001b[m\u001b[K]\n",
            "       TInt \u001b[01;35m\u001b[KPartitionSize\u001b[m\u001b[K = Partitions[0].GetVal2()-Partitions[0].GetVal1()+1;\n",
            "            \u001b[01;35m\u001b[K^~~~~~~~~~~~~\u001b[m\u001b[K\n",
            "\u001b[01m\u001b[Ktable.cpp:\u001b[m\u001b[K In member function ‘\u001b[01m\u001b[Kvoid TTable::SetFltColToConstMP(TInt, TFlt)\u001b[m\u001b[K’:\n",
            "\u001b[01m\u001b[Ktable.cpp:4156:7:\u001b[m\u001b[K \u001b[01;35m\u001b[Kwarning: \u001b[m\u001b[Kvariable ‘\u001b[01m\u001b[KPartitionSize\u001b[m\u001b[K’ set but not used [\u001b[01;35m\u001b[K-Wunused-but-set-variable\u001b[m\u001b[K]\n",
            "  TInt \u001b[01;35m\u001b[KPartitionSize\u001b[m\u001b[K = Partitions[0].GetVal2()-Partitions[0].GetVal1()+1;\n",
            "       \u001b[01;35m\u001b[K^~~~~~~~~~~~~\u001b[m\u001b[K\n",
            "\u001b[01m\u001b[Ktable.cpp:\u001b[m\u001b[K In member function ‘\u001b[01m\u001b[Kvoid TTable::UpdateFltFromTableMP(const TStr&, const TStr&, const TTable&, const TStr&, const TStr&, TFlt)\u001b[m\u001b[K’:\n",
            "\u001b[01m\u001b[Ktable.cpp:4200:7:\u001b[m\u001b[K \u001b[01;35m\u001b[Kwarning: \u001b[m\u001b[Kvariable ‘\u001b[01m\u001b[KPartitionSize\u001b[m\u001b[K’ set but not used [\u001b[01;35m\u001b[K-Wunused-but-set-variable\u001b[m\u001b[K]\n",
            "  TInt \u001b[01;35m\u001b[KPartitionSize\u001b[m\u001b[K = Partitions[0].GetVal2()-Partitions[0].GetVal1()+1;\n",
            "       \u001b[01;35m\u001b[K^~~~~~~~~~~~~\u001b[m\u001b[K\n",
            "\u001b[01m\u001b[Ktable.cpp:\u001b[m\u001b[K In member function ‘\u001b[01m\u001b[Kvoid TTable::ColGenericOpMP(TInt, TInt, TAttrType, TAttrType, TInt, TArithOp)\u001b[m\u001b[K’:\n",
            "\u001b[01m\u001b[Ktable.cpp:4713:7:\u001b[m\u001b[K \u001b[01;35m\u001b[Kwarning: \u001b[m\u001b[Kvariable ‘\u001b[01m\u001b[KPartitionSize\u001b[m\u001b[K’ set but not used [\u001b[01;35m\u001b[K-Wunused-but-set-variable\u001b[m\u001b[K]\n",
            "  TInt \u001b[01;35m\u001b[KPartitionSize\u001b[m\u001b[K = Partitions[0].GetVal2()-Partitions[0].GetVal1()+1;\n",
            "       \u001b[01;35m\u001b[K^~~~~~~~~~~~~\u001b[m\u001b[K\n",
            "\u001b[01m\u001b[Ktable.cpp:\u001b[m\u001b[K In member function ‘\u001b[01m\u001b[Kvoid TTable::ColGenericOpMP(const TInt&, const TInt&, TAttrType, const TFlt&, TArithOp, TBool)\u001b[m\u001b[K’:\n",
            "\u001b[01m\u001b[Ktable.cpp:5035:7:\u001b[m\u001b[K \u001b[01;35m\u001b[Kwarning: \u001b[m\u001b[Kvariable ‘\u001b[01m\u001b[KPartitionSize\u001b[m\u001b[K’ set but not used [\u001b[01;35m\u001b[K-Wunused-but-set-variable\u001b[m\u001b[K]\n",
            "  TInt \u001b[01;35m\u001b[KPartitionSize\u001b[m\u001b[K = Partitions[0].GetVal2()-Partitions[0].GetVal1()+1;\n",
            "       \u001b[01;35m\u001b[K^~~~~~~~~~~~~\u001b[m\u001b[K\n",
            "In file included from \u001b[01m\u001b[KSnap.cpp:40:0\u001b[m\u001b[K:\n",
            "\u001b[01m\u001b[Kcasc.cpp:\u001b[m\u001b[K In function ‘\u001b[01m\u001b[Kvoid TSnap::CascFindMP(PNGraph, PTable, TStr, TStr, TStr, TStr, TVec<TVec<TInt, int>, int>&)\u001b[m\u001b[K’:\n",
            "\u001b[01m\u001b[Kcasc.cpp:202:8:\u001b[m\u001b[K \u001b[01;35m\u001b[Kwarning: \u001b[m\u001b[Kvariable ‘\u001b[01m\u001b[KSIdx\u001b[m\u001b[K’ set but not used [\u001b[01;35m\u001b[K-Wunused-but-set-variable\u001b[m\u001b[K]\n",
            "   TInt \u001b[01;35m\u001b[KSIdx\u001b[m\u001b[K = P->GetColIdx(C1);\n",
            "        \u001b[01;35m\u001b[K^~~~\u001b[m\u001b[K\n",
            "\u001b[01m\u001b[Kcasc.cpp:203:8:\u001b[m\u001b[K \u001b[01;35m\u001b[Kwarning: \u001b[m\u001b[Kvariable ‘\u001b[01m\u001b[KDIdx\u001b[m\u001b[K’ set but not used [\u001b[01;35m\u001b[K-Wunused-but-set-variable\u001b[m\u001b[K]\n",
            "   TInt \u001b[01;35m\u001b[KDIdx\u001b[m\u001b[K = P->GetColIdx(C2);\n",
            "        \u001b[01;35m\u001b[K^~~~\u001b[m\u001b[K\n",
            "\u001b[01m\u001b[Kcasc.cpp:204:8:\u001b[m\u001b[K \u001b[01;35m\u001b[Kwarning: \u001b[m\u001b[Kvariable ‘\u001b[01m\u001b[KStIdx\u001b[m\u001b[K’ set but not used [\u001b[01;35m\u001b[K-Wunused-but-set-variable\u001b[m\u001b[K]\n",
            "   TInt \u001b[01;35m\u001b[KStIdx\u001b[m\u001b[K = P->GetColIdx(C3);\n",
            "        \u001b[01;35m\u001b[K^~~~~\u001b[m\u001b[K\n",
            "\u001b[01m\u001b[Kcasc.cpp:205:8:\u001b[m\u001b[K \u001b[01;35m\u001b[Kwarning: \u001b[m\u001b[Kvariable ‘\u001b[01m\u001b[KDuIdx\u001b[m\u001b[K’ set but not used [\u001b[01;35m\u001b[K-Wunused-but-set-variable\u001b[m\u001b[K]\n",
            "   TInt \u001b[01;35m\u001b[KDuIdx\u001b[m\u001b[K = P->GetColIdx(C4);\n",
            "        \u001b[01;35m\u001b[K^~~~~\u001b[m\u001b[K\n",
            "In file included from \u001b[01m\u001b[KSnap.cpp:41:0\u001b[m\u001b[K:\n",
            "\u001b[01m\u001b[Ksim.cpp:\u001b[m\u001b[K In function ‘\u001b[01m\u001b[KPNEANet KNNJaccard(PNGraph, int)\u001b[m\u001b[K’:\n",
            "\u001b[01m\u001b[Ksim.cpp:188:7:\u001b[m\u001b[K \u001b[01;35m\u001b[Kwarning: \u001b[m\u001b[Kvariable ‘\u001b[01m\u001b[Kend\u001b[m\u001b[K’ set but not used [\u001b[01;35m\u001b[K-Wunused-but-set-variable\u001b[m\u001b[K]\n",
            "   int \u001b[01;35m\u001b[Kend\u001b[m\u001b[K;\n",
            "       \u001b[01;35m\u001b[K^~~\u001b[m\u001b[K\n",
            "In file included from \u001b[01m\u001b[K../glib-core/base.h:178:0\u001b[m\u001b[K,\n",
            "                 from \u001b[01m\u001b[KSnap.h:9\u001b[m\u001b[K,\n",
            "                 from \u001b[01m\u001b[KSnap.cpp:4\u001b[m\u001b[K:\n",
            "../glib-core/bd.h: In instantiation of ‘\u001b[01m\u001b[Kvoid TPt<TRec>::UnRef() const [with TRec = TNEANet]\u001b[m\u001b[K’:\n",
            "\u001b[01m\u001b[K../glib-core/bd.h:480:15:\u001b[m\u001b[K   required from ‘\u001b[01m\u001b[KTPt<TRec>::~TPt() [with TRec = TNEANet]\u001b[m\u001b[K’\n",
            "\u001b[01m\u001b[Knetwork.h:2015:54:\u001b[m\u001b[K   required from here\n",
            "\u001b[01m\u001b[K../glib-core/bd.h:472:31:\u001b[m\u001b[K \u001b[01;35m\u001b[Kwarning: \u001b[m\u001b[Kdeleting object of polymorphic class type ‘\u001b[01m\u001b[KTNEANet\u001b[m\u001b[K’ which has non-virtual destructor might cause undefined behavior [\u001b[01;35m\u001b[K-Wdelete-non-virtual-dtor\u001b[m\u001b[K]\n",
            "       if (Addr->CRef.NoRef()){\u001b[01;35m\u001b[Kdelete\u001b[m\u001b[K Addr;}\n",
            "                               \u001b[01;35m\u001b[K^~~~~~\u001b[m\u001b[K\n",
            "In file included from \u001b[01m\u001b[K../glib-core/base.cpp:80:0\u001b[m\u001b[K,\n",
            "                 from \u001b[01m\u001b[KSnap.cpp:6\u001b[m\u001b[K:\n",
            "\u001b[01m\u001b[K../glib-core/fl.cpp:\u001b[m\u001b[K In static member function ‘\u001b[01m\u001b[Kstatic void TFile::Copy(const TStr&, const TStr&, const bool&, const bool&)\u001b[m\u001b[K’:\n",
            "\u001b[01m\u001b[K../glib-core/fl.cpp:1213:7:\u001b[m\u001b[K \u001b[01;35m\u001b[Kwarning: \u001b[m\u001b[Kignoring return value of ‘\u001b[01m\u001b[Kssize_t write(int, const void*, size_t)\u001b[m\u001b[K’, declared with attribute warn_unused_result [\u001b[01;35m\u001b[K-Wunused-result\u001b[m\u001b[K]\n",
            "  \u001b[01;35m\u001b[Kwrite(output, '\\0', 1)\u001b[m\u001b[K;\n",
            "  \u001b[01;35m\u001b[K~~~~~^~~~~~~~~~~~~~~~~\u001b[m\u001b[K\n",
            "In file included from \u001b[01m\u001b[K../glib-core/base.cpp:88:0\u001b[m\u001b[K,\n",
            "                 from \u001b[01m\u001b[KSnap.cpp:6\u001b[m\u001b[K:\n",
            "\u001b[01m\u001b[K../glib-core/os.cpp:\u001b[m\u001b[K In function ‘\u001b[01m\u001b[Kint GetCurrentDirectory(int, char*)\u001b[m\u001b[K’:\n",
            "\u001b[01m\u001b[K../glib-core/os.cpp:560:9:\u001b[m\u001b[K \u001b[01;35m\u001b[Kwarning: \u001b[m\u001b[Kignoring return value of ‘\u001b[01m\u001b[Kchar* getcwd(char*, size_t)\u001b[m\u001b[K’, declared with attribute warn_unused_result [\u001b[01;35m\u001b[K-Wunused-result\u001b[m\u001b[K]\n",
            "   \u001b[01;35m\u001b[Kgetcwd(Bf, MxBfL)\u001b[m\u001b[K;\n",
            "   \u001b[01;35m\u001b[K~~~~~~^~~~~~~~~~~\u001b[m\u001b[K\n",
            "\u001b[01m\u001b[K../glib-core/os.cpp:\u001b[m\u001b[K In static member function ‘\u001b[01m\u001b[Kstatic void TSysProc::SetLowPriority()\u001b[m\u001b[K’:\n",
            "\u001b[01m\u001b[K../glib-core/os.cpp:802:7:\u001b[m\u001b[K \u001b[01;35m\u001b[Kwarning: \u001b[m\u001b[Kignoring return value of ‘\u001b[01m\u001b[Kint nice(int)\u001b[m\u001b[K’, declared with attribute warn_unused_result [\u001b[01;35m\u001b[K-Wunused-result\u001b[m\u001b[K]\n",
            "   \u001b[01;35m\u001b[Knice(19)\u001b[m\u001b[K;\n",
            "   \u001b[01;35m\u001b[K~~~~^~~~\u001b[m\u001b[K\n",
            "In file included from \u001b[01m\u001b[KSnap.cpp:20:0\u001b[m\u001b[K:\n",
            "\u001b[01m\u001b[Ktimenet.cpp:\u001b[m\u001b[K In static member function ‘\u001b[01m\u001b[Kstatic PTimeNet TTimeNet::LoadArxiv(const TStr&, const TStr&)\u001b[m\u001b[K’:\n",
            "\u001b[01m\u001b[Ktimenet.cpp:396:10:\u001b[m\u001b[K \u001b[01;35m\u001b[Kwarning: \u001b[m\u001b[Kignoring return value of ‘\u001b[01m\u001b[Kchar* fgets(char*, int, FILE*)\u001b[m\u001b[K’, declared with attribute warn_unused_result [\u001b[01;35m\u001b[K-Wunused-result\u001b[m\u001b[K]\n",
            "     \u001b[01;35m\u001b[Kfgets(Line, 1024, PprF)\u001b[m\u001b[K;\n",
            "     \u001b[01;35m\u001b[K~~~~~^~~~~~~~~~~~~~~~~~\u001b[m\u001b[K\n",
            "\u001b[01m\u001b[Ktimenet.cpp:422:10:\u001b[m\u001b[K \u001b[01;35m\u001b[Kwarning: \u001b[m\u001b[Kignoring return value of ‘\u001b[01m\u001b[Kchar* fgets(char*, int, FILE*)\u001b[m\u001b[K’, declared with attribute warn_unused_result [\u001b[01;35m\u001b[K-Wunused-result\u001b[m\u001b[K]\n",
            "     \u001b[01;35m\u001b[Kfgets(Line, 1024, CiteF)\u001b[m\u001b[K;\n",
            "     \u001b[01;35m\u001b[K~~~~~^~~~~~~~~~~~~~~~~~~\u001b[m\u001b[K\n",
            "\u001b[01m\u001b[Ktimenet.cpp:\u001b[m\u001b[K In static member function ‘\u001b[01m\u001b[Kstatic PTimeNet TTimeNet::LoadPatents(const TStr&, const TStr&)\u001b[m\u001b[K’:\n",
            "\u001b[01m\u001b[Ktimenet.cpp:493:8:\u001b[m\u001b[K \u001b[01;35m\u001b[Kwarning: \u001b[m\u001b[Kignoring return value of ‘\u001b[01m\u001b[Kchar* fgets(char*, int, FILE*)\u001b[m\u001b[K’, declared with attribute warn_unused_result [\u001b[01;35m\u001b[K-Wunused-result\u001b[m\u001b[K]\n",
            "   \u001b[01;35m\u001b[Kfgets(Line, 1024, PatF)\u001b[m\u001b[K; // skip 1st line\n",
            "   \u001b[01;35m\u001b[K~~~~~^~~~~~~~~~~~~~~~~~\u001b[m\u001b[K\n",
            "\u001b[01m\u001b[Ktimenet.cpp:496:10:\u001b[m\u001b[K \u001b[01;35m\u001b[Kwarning: \u001b[m\u001b[Kignoring return value of ‘\u001b[01m\u001b[Kchar* fgets(char*, int, FILE*)\u001b[m\u001b[K’, declared with attribute warn_unused_result [\u001b[01;35m\u001b[K-Wunused-result\u001b[m\u001b[K]\n",
            "     \u001b[01;35m\u001b[Kfgets(Line, 1024, PatF)\u001b[m\u001b[K;\n",
            "     \u001b[01;35m\u001b[K~~~~~^~~~~~~~~~~~~~~~~~\u001b[m\u001b[K\n",
            "\u001b[01m\u001b[Ktimenet.cpp:514:8:\u001b[m\u001b[K \u001b[01;35m\u001b[Kwarning: \u001b[m\u001b[Kignoring return value of ‘\u001b[01m\u001b[Kchar* fgets(char*, int, FILE*)\u001b[m\u001b[K’, declared with attribute warn_unused_result [\u001b[01;35m\u001b[K-Wunused-result\u001b[m\u001b[K]\n",
            "   \u001b[01;35m\u001b[Kfgets(Line, 1024, CiteF)\u001b[m\u001b[K; // skip 1st line\n",
            "   \u001b[01;35m\u001b[K~~~~~^~~~~~~~~~~~~~~~~~~\u001b[m\u001b[K\n",
            "\u001b[01m\u001b[Ktimenet.cpp:517:10:\u001b[m\u001b[K \u001b[01;35m\u001b[Kwarning: \u001b[m\u001b[Kignoring return value of ‘\u001b[01m\u001b[Kchar* fgets(char*, int, FILE*)\u001b[m\u001b[K’, declared with attribute warn_unused_result [\u001b[01;35m\u001b[K-Wunused-result\u001b[m\u001b[K]\n",
            "     \u001b[01;35m\u001b[Kfgets(Line, 1024, CiteF)\u001b[m\u001b[K;\n",
            "     \u001b[01;35m\u001b[K~~~~~^~~~~~~~~~~~~~~~~~~\u001b[m\u001b[K\n",
            "\u001b[01m\u001b[Ktimenet.cpp:\u001b[m\u001b[K In static member function ‘\u001b[01m\u001b[Kstatic PTimeNet TTimeNet::LoadAmazon(const TStr&)\u001b[m\u001b[K’:\n",
            "\u001b[01m\u001b[Ktimenet.cpp:574:10:\u001b[m\u001b[K \u001b[01;35m\u001b[Kwarning: \u001b[m\u001b[Kignoring return value of ‘\u001b[01m\u001b[Kchar* fgets(char*, int, FILE*)\u001b[m\u001b[K’, declared with attribute warn_unused_result [\u001b[01;35m\u001b[K-Wunused-result\u001b[m\u001b[K]\n",
            "     \u001b[01;35m\u001b[Kfgets(line, 2024, F)\u001b[m\u001b[K;\n",
            "     \u001b[01;35m\u001b[K~~~~~^~~~~~~~~~~~~~~\u001b[m\u001b[K\n",
            "In file included from \u001b[01m\u001b[KSnap.cpp:35:0\u001b[m\u001b[K:\n",
            "\u001b[01m\u001b[Kcentr.cpp:\u001b[m\u001b[K In function ‘\u001b[01m\u001b[Kint TSnap::Intersect(TUNGraph::TNodeI, int*, int)\u001b[m\u001b[K’:\n",
            "\u001b[01m\u001b[Kcentr.cpp:627:20:\u001b[m\u001b[K \u001b[01;35m\u001b[Kwarning: \u001b[m\u001b[Kassuming signed overflow does not occur when assuming that (X + c) >= X is always true [\u001b[01;35m\u001b[K-Wstrict-overflow\u001b[m\u001b[K]\n",
            "     for (int j=0; \u001b[01;35m\u001b[Kj<NNodes_br\u001b[m\u001b[K; j++)\n",
            "                   \u001b[01;35m\u001b[K~^~~~~~~~~~\u001b[m\u001b[K\n",
            "\u001b[01m\u001b[Kcentr.cpp:638:18:\u001b[m\u001b[K \u001b[01;35m\u001b[Kwarning: \u001b[m\u001b[Kassuming signed overflow does not occur when assuming that (X + c) >= X is always true [\u001b[01;35m\u001b[K-Wstrict-overflow\u001b[m\u001b[K]\n",
            "   for (int j=0; \u001b[01;35m\u001b[Kj<NNodes_br\u001b[m\u001b[K; j++)\n",
            "                 \u001b[01;35m\u001b[K~^~~~~~~~~~\u001b[m\u001b[K\n",
            "In file included from \u001b[01m\u001b[KSnap.cpp:36:0\u001b[m\u001b[K:\n",
            "\u001b[01m\u001b[Kcmty.cpp:\u001b[m\u001b[K In member function ‘\u001b[01m\u001b[Kvoid THash<TKey, TDat, THashFunc>::DelKey(const TKey&) [with TKey = TInt; TDat = TSnap::TSnapDetail::TCNMQMatrix::TCmtyDat; THashFunc = TDefaultHashFunc<TInt>]\u001b[m\u001b[K’:\n",
            "\u001b[01m\u001b[Kcmty.cpp:1326:10:\u001b[m\u001b[K \u001b[01;35m\u001b[Kwarning: \u001b[m\u001b[K‘\u001b[01m\u001b[K<anonymous>.TSnap::TSnapDetail::TCNMQMatrix::TCmtyDat::DegFrac\u001b[m\u001b[K’ is used uninitialized in this function [\u001b[01;35m\u001b[K-Wuninitialized\u001b[m\u001b[K]\n",
            "   struct \u001b[01;35m\u001b[KTCmtyDat\u001b[m\u001b[K {\n",
            "          \u001b[01;35m\u001b[K^~~~~~~~\u001b[m\u001b[K\n",
            "In file included from \u001b[01m\u001b[KSnap.cpp:35:0\u001b[m\u001b[K:\n",
            "\u001b[01m\u001b[Kcentr.cpp:\u001b[m\u001b[K In function ‘\u001b[01m\u001b[KTIntH TSnap::MaxCPGreedyBetter3(const PUNGraph&, int)\u001b[m\u001b[K’:\n",
            "\u001b[01m\u001b[Kcentr.cpp:627:20:\u001b[m\u001b[K \u001b[01;35m\u001b[Kwarning: \u001b[m\u001b[Kassuming signed overflow does not occur when assuming that (X + c) >= X is always true [\u001b[01;35m\u001b[K-Wstrict-overflow\u001b[m\u001b[K]\n",
            "     for (int j=0; \u001b[01;35m\u001b[Kj<NNodes_br\u001b[m\u001b[K; j++)\n",
            "                   \u001b[01;35m\u001b[K~^~~~~~~~~~\u001b[m\u001b[K\n",
            "\u001b[01m\u001b[Kcentr.cpp:638:18:\u001b[m\u001b[K \u001b[01;35m\u001b[Kwarning: \u001b[m\u001b[Kassuming signed overflow does not occur when assuming that (X + c) >= X is always true [\u001b[01;35m\u001b[K-Wstrict-overflow\u001b[m\u001b[K]\n",
            "   for (int j=0; \u001b[01;35m\u001b[Kj<NNodes_br\u001b[m\u001b[K; j++)\n",
            "                 \u001b[01;35m\u001b[K~^~~~~~~~~~\u001b[m\u001b[K\n",
            "In file included from \u001b[01m\u001b[KSnap.cpp:35:0\u001b[m\u001b[K:\n",
            "\u001b[01m\u001b[Kcentr.cpp:357:22:\u001b[m\u001b[K \u001b[01;35m\u001b[Kwarning: \u001b[m\u001b[Kassuming signed overflow does not occur when assuming that (X + c) >= X is always true [\u001b[01;35m\u001b[K-Wstrict-overflow\u001b[m\u001b[K]\n",
            "       for (int j=0; \u001b[01;35m\u001b[Kj<NNodes_br\u001b[m\u001b[K; j++)\n",
            "                     \u001b[01;35m\u001b[K~^~~~~~~~~~\u001b[m\u001b[K\n",
            "\u001b[01m\u001b[Kcentr.cpp:371:24:\u001b[m\u001b[K \u001b[01;35m\u001b[Kwarning: \u001b[m\u001b[Kassuming signed overflow does not occur when assuming that (X + c) >= X is always true [\u001b[01;35m\u001b[K-Wstrict-overflow\u001b[m\u001b[K]\n",
            "         for (int j=0; \u001b[01;35m\u001b[Kj<NNodes_br\u001b[m\u001b[K; j++) {\n",
            "                       \u001b[01;35m\u001b[K~^~~~~~~~~~\u001b[m\u001b[K\n",
            "In file included from \u001b[01m\u001b[KSnap.cpp:35:0\u001b[m\u001b[K:\n",
            "\u001b[01m\u001b[Kcentr.cpp:\u001b[m\u001b[K In function ‘\u001b[01m\u001b[Kint TSnap::FastCorePeripheryGC(PUNGraph&, TIntIntH&)\u001b[m\u001b[K’:\n",
            "\u001b[01m\u001b[Kcentr.cpp:627:20:\u001b[m\u001b[K \u001b[01;35m\u001b[Kwarning: \u001b[m\u001b[Kassuming signed overflow does not occur when assuming that (X + c) >= X is always true [\u001b[01;35m\u001b[K-Wstrict-overflow\u001b[m\u001b[K]\n",
            "     for (int j=0; \u001b[01;35m\u001b[Kj<NNodes_br\u001b[m\u001b[K; j++)\n",
            "                   \u001b[01;35m\u001b[K~^~~~~~~~~~\u001b[m\u001b[K\n",
            "\u001b[01m\u001b[Kcentr.cpp:638:18:\u001b[m\u001b[K \u001b[01;35m\u001b[Kwarning: \u001b[m\u001b[Kassuming signed overflow does not occur when assuming that (X + c) >= X is always true [\u001b[01;35m\u001b[K-Wstrict-overflow\u001b[m\u001b[K]\n",
            "   for (int j=0; \u001b[01;35m\u001b[Kj<NNodes_br\u001b[m\u001b[K; j++)\n",
            "                 \u001b[01;35m\u001b[K~^~~~~~~~~~\u001b[m\u001b[K\n",
            "g++ -std=c++98 -Wall -O3 -DNDEBUG -fopenmp -o testSnap testSnap.cpp Snap.o -I../glib-core  -lrt\n",
            "In file included from \u001b[01m\u001b[K../glib-core/base.h:182:0\u001b[m\u001b[K,\n",
            "                 from \u001b[01m\u001b[KSnap.h:9\u001b[m\u001b[K,\n",
            "                 from \u001b[01m\u001b[KtestSnap.cpp:3\u001b[m\u001b[K:\n",
            "\u001b[01m\u001b[K../glib-core/ds.h:\u001b[m\u001b[K In member function ‘\u001b[01m\u001b[Kbool TTuple<TVal, NVals>::operator==(const TTuple<TVal, NVals>&) const\u001b[m\u001b[K’:\n",
            "\u001b[01m\u001b[K../glib-core/ds.h:290:5:\u001b[m\u001b[K \u001b[01;35m\u001b[Kwarning: \u001b[m\u001b[Kthis ‘\u001b[01m\u001b[Kfor\u001b[m\u001b[K’ clause does not guard... [\u001b[01;35m\u001b[K-Wmisleading-indentation\u001b[m\u001b[K]\n",
            "     \u001b[01;35m\u001b[Kfor\u001b[m\u001b[K (int i=0; i<Len(); i++) if(ValV[i]!=Tup[i]){return false;} return true; }\n",
            "     \u001b[01;35m\u001b[K^~~\u001b[m\u001b[K\n",
            "\u001b[01m\u001b[K../glib-core/ds.h:290:68:\u001b[m\u001b[K \u001b[01;36m\u001b[Knote: \u001b[m\u001b[K...this statement, but the latter is misleadingly indented as if it were guarded by the ‘\u001b[01m\u001b[Kfor\u001b[m\u001b[K’\n",
            "     for (int i=0; i<Len(); i++) if(ValV[i]!=Tup[i]){return false;} \u001b[01;36m\u001b[Kreturn\u001b[m\u001b[K true; }\n",
            "                                                                    \u001b[01;36m\u001b[K^~~~~~\u001b[m\u001b[K\n",
            "In file included from \u001b[01m\u001b[K../glib-core/base.h:178:0\u001b[m\u001b[K,\n",
            "                 from \u001b[01m\u001b[KSnap.h:9\u001b[m\u001b[K,\n",
            "                 from \u001b[01m\u001b[KtestSnap.cpp:3\u001b[m\u001b[K:\n",
            "../glib-core/bd.h: In instantiation of ‘\u001b[01m\u001b[Kvoid TPt<TRec>::UnRef() const [with TRec = TNEANet]\u001b[m\u001b[K’:\n",
            "\u001b[01m\u001b[K../glib-core/bd.h:480:15:\u001b[m\u001b[K   required from ‘\u001b[01m\u001b[KTPt<TRec>::~TPt() [with TRec = TNEANet]\u001b[m\u001b[K’\n",
            "\u001b[01m\u001b[Knetwork.h:2015:54:\u001b[m\u001b[K   required from here\n",
            "\u001b[01m\u001b[K../glib-core/bd.h:472:31:\u001b[m\u001b[K \u001b[01;35m\u001b[Kwarning: \u001b[m\u001b[Kdeleting object of polymorphic class type ‘\u001b[01m\u001b[KTNEANet\u001b[m\u001b[K’ which has non-virtual destructor might cause undefined behavior [\u001b[01;35m\u001b[K-Wdelete-non-virtual-dtor\u001b[m\u001b[K]\n",
            "       if (Addr->CRef.NoRef()){\u001b[01;35m\u001b[Kdelete\u001b[m\u001b[K Addr;}\n",
            "                               \u001b[01;35m\u001b[K^~~~~~\u001b[m\u001b[K\n",
            "make[1]: Leaving directory '/content/snap/snap-core'\n",
            "g++ -std=c++98 -Wall -O3 -DNDEBUG -fopenmp  -o node2vec node2vec.cpp ../../snap-adv/n2v.cpp ../../snap-adv/word2vec.cpp ../../snap-adv/biasedrandomwalk.cpp ../../snap-core/Snap.o -I../../snap-core -I../../snap-adv -I../../glib-core -I../../snap-exp  -lrt\n",
            "In file included from \u001b[01m\u001b[K../../glib-core/base.h:182:0\u001b[m\u001b[K,\n",
            "                 from \u001b[01m\u001b[K../../snap-core/Snap.h:9\u001b[m\u001b[K,\n",
            "                 from \u001b[01m\u001b[Kstdafx.h:5\u001b[m\u001b[K,\n",
            "                 from \u001b[01m\u001b[Knode2vec.cpp:1\u001b[m\u001b[K:\n",
            "\u001b[01m\u001b[K../../glib-core/ds.h:\u001b[m\u001b[K In member function ‘\u001b[01m\u001b[Kbool TTuple<TVal, NVals>::operator==(const TTuple<TVal, NVals>&) const\u001b[m\u001b[K’:\n",
            "\u001b[01m\u001b[K../../glib-core/ds.h:290:5:\u001b[m\u001b[K \u001b[01;35m\u001b[Kwarning: \u001b[m\u001b[Kthis ‘\u001b[01m\u001b[Kfor\u001b[m\u001b[K’ clause does not guard... [\u001b[01;35m\u001b[K-Wmisleading-indentation\u001b[m\u001b[K]\n",
            "     \u001b[01;35m\u001b[Kfor\u001b[m\u001b[K (int i=0; i<Len(); i++) if(ValV[i]!=Tup[i]){return false;} return true; }\n",
            "     \u001b[01;35m\u001b[K^~~\u001b[m\u001b[K\n",
            "\u001b[01m\u001b[K../../glib-core/ds.h:290:68:\u001b[m\u001b[K \u001b[01;36m\u001b[Knote: \u001b[m\u001b[K...this statement, but the latter is misleadingly indented as if it were guarded by the ‘\u001b[01m\u001b[Kfor\u001b[m\u001b[K’\n",
            "     for (int i=0; i<Len(); i++) if(ValV[i]!=Tup[i]){return false;} \u001b[01;36m\u001b[Kreturn\u001b[m\u001b[K true; }\n",
            "                                                                    \u001b[01;36m\u001b[K^~~~~~\u001b[m\u001b[K\n",
            "In file included from \u001b[01m\u001b[K../../glib-core/base.h:178:0\u001b[m\u001b[K,\n",
            "                 from \u001b[01m\u001b[K../../snap-core/Snap.h:9\u001b[m\u001b[K,\n",
            "                 from \u001b[01m\u001b[Kstdafx.h:5\u001b[m\u001b[K,\n",
            "                 from \u001b[01m\u001b[Knode2vec.cpp:1\u001b[m\u001b[K:\n",
            "../../glib-core/bd.h: In instantiation of ‘\u001b[01m\u001b[Kvoid TPt<TRec>::UnRef() const [with TRec = TNEANet]\u001b[m\u001b[K’:\n",
            "\u001b[01m\u001b[K../../glib-core/bd.h:480:15:\u001b[m\u001b[K   required from ‘\u001b[01m\u001b[KTPt<TRec>::~TPt() [with TRec = TNEANet]\u001b[m\u001b[K’\n",
            "\u001b[01m\u001b[K../../snap-core/network.h:2015:54:\u001b[m\u001b[K   required from here\n",
            "\u001b[01m\u001b[K../../glib-core/bd.h:472:31:\u001b[m\u001b[K \u001b[01;35m\u001b[Kwarning: \u001b[m\u001b[Kdeleting object of polymorphic class type ‘\u001b[01m\u001b[KTNEANet\u001b[m\u001b[K’ which has non-virtual destructor might cause undefined behavior [\u001b[01;35m\u001b[K-Wdelete-non-virtual-dtor\u001b[m\u001b[K]\n",
            "       if (Addr->CRef.NoRef()){\u001b[01;35m\u001b[Kdelete\u001b[m\u001b[K Addr;}\n",
            "                               \u001b[01;35m\u001b[K^~~~~~\u001b[m\u001b[K\n",
            "In file included from \u001b[01m\u001b[K../../glib-core/base.h:182:0\u001b[m\u001b[K,\n",
            "                 from \u001b[01m\u001b[K../../snap-core/Snap.h:9\u001b[m\u001b[K,\n",
            "                 from \u001b[01m\u001b[K../../snap-adv/n2v.h:6\u001b[m\u001b[K,\n",
            "                 from \u001b[01m\u001b[K../../snap-adv/n2v.cpp:2\u001b[m\u001b[K:\n",
            "\u001b[01m\u001b[K../../glib-core/ds.h:\u001b[m\u001b[K In member function ‘\u001b[01m\u001b[Kbool TTuple<TVal, NVals>::operator==(const TTuple<TVal, NVals>&) const\u001b[m\u001b[K’:\n",
            "\u001b[01m\u001b[K../../glib-core/ds.h:290:5:\u001b[m\u001b[K \u001b[01;35m\u001b[Kwarning: \u001b[m\u001b[Kthis ‘\u001b[01m\u001b[Kfor\u001b[m\u001b[K’ clause does not guard... [\u001b[01;35m\u001b[K-Wmisleading-indentation\u001b[m\u001b[K]\n",
            "     \u001b[01;35m\u001b[Kfor\u001b[m\u001b[K (int i=0; i<Len(); i++) if(ValV[i]!=Tup[i]){return false;} return true; }\n",
            "     \u001b[01;35m\u001b[K^~~\u001b[m\u001b[K\n",
            "\u001b[01m\u001b[K../../glib-core/ds.h:290:68:\u001b[m\u001b[K \u001b[01;36m\u001b[Knote: \u001b[m\u001b[K...this statement, but the latter is misleadingly indented as if it were guarded by the ‘\u001b[01m\u001b[Kfor\u001b[m\u001b[K’\n",
            "     for (int i=0; i<Len(); i++) if(ValV[i]!=Tup[i]){return false;} \u001b[01;36m\u001b[Kreturn\u001b[m\u001b[K true; }\n",
            "                                                                    \u001b[01;36m\u001b[K^~~~~~\u001b[m\u001b[K\n",
            "In file included from \u001b[01m\u001b[K../../glib-core/base.h:178:0\u001b[m\u001b[K,\n",
            "                 from \u001b[01m\u001b[K../../snap-core/Snap.h:9\u001b[m\u001b[K,\n",
            "                 from \u001b[01m\u001b[K../../snap-adv/n2v.h:6\u001b[m\u001b[K,\n",
            "                 from \u001b[01m\u001b[K../../snap-adv/n2v.cpp:2\u001b[m\u001b[K:\n",
            "../../glib-core/bd.h: In instantiation of ‘\u001b[01m\u001b[Kvoid TPt<TRec>::UnRef() const [with TRec = TNEANet]\u001b[m\u001b[K’:\n",
            "\u001b[01m\u001b[K../../glib-core/bd.h:480:15:\u001b[m\u001b[K   required from ‘\u001b[01m\u001b[KTPt<TRec>::~TPt() [with TRec = TNEANet]\u001b[m\u001b[K’\n",
            "\u001b[01m\u001b[K../../snap-core/network.h:2015:54:\u001b[m\u001b[K   required from here\n",
            "\u001b[01m\u001b[K../../glib-core/bd.h:472:31:\u001b[m\u001b[K \u001b[01;35m\u001b[Kwarning: \u001b[m\u001b[Kdeleting object of polymorphic class type ‘\u001b[01m\u001b[KTNEANet\u001b[m\u001b[K’ which has non-virtual destructor might cause undefined behavior [\u001b[01;35m\u001b[K-Wdelete-non-virtual-dtor\u001b[m\u001b[K]\n",
            "       if (Addr->CRef.NoRef()){\u001b[01;35m\u001b[Kdelete\u001b[m\u001b[K Addr;}\n",
            "                               \u001b[01;35m\u001b[K^~~~~~\u001b[m\u001b[K\n",
            "In file included from \u001b[01m\u001b[K../../glib-core/base.h:182:0\u001b[m\u001b[K,\n",
            "                 from \u001b[01m\u001b[K../../snap-core/Snap.h:9\u001b[m\u001b[K,\n",
            "                 from \u001b[01m\u001b[K../../snap-adv/word2vec.cpp:2\u001b[m\u001b[K:\n",
            "\u001b[01m\u001b[K../../glib-core/ds.h:\u001b[m\u001b[K In member function ‘\u001b[01m\u001b[Kbool TTuple<TVal, NVals>::operator==(const TTuple<TVal, NVals>&) const\u001b[m\u001b[K’:\n",
            "\u001b[01m\u001b[K../../glib-core/ds.h:290:5:\u001b[m\u001b[K \u001b[01;35m\u001b[Kwarning: \u001b[m\u001b[Kthis ‘\u001b[01m\u001b[Kfor\u001b[m\u001b[K’ clause does not guard... [\u001b[01;35m\u001b[K-Wmisleading-indentation\u001b[m\u001b[K]\n",
            "     \u001b[01;35m\u001b[Kfor\u001b[m\u001b[K (int i=0; i<Len(); i++) if(ValV[i]!=Tup[i]){return false;} return true; }\n",
            "     \u001b[01;35m\u001b[K^~~\u001b[m\u001b[K\n",
            "\u001b[01m\u001b[K../../glib-core/ds.h:290:68:\u001b[m\u001b[K \u001b[01;36m\u001b[Knote: \u001b[m\u001b[K...this statement, but the latter is misleadingly indented as if it were guarded by the ‘\u001b[01m\u001b[Kfor\u001b[m\u001b[K’\n",
            "     for (int i=0; i<Len(); i++) if(ValV[i]!=Tup[i]){return false;} \u001b[01;36m\u001b[Kreturn\u001b[m\u001b[K true; }\n",
            "                                                                    \u001b[01;36m\u001b[K^~~~~~\u001b[m\u001b[K\n",
            "In file included from \u001b[01m\u001b[K../../glib-core/base.h:178:0\u001b[m\u001b[K,\n",
            "                 from \u001b[01m\u001b[K../../snap-core/Snap.h:9\u001b[m\u001b[K,\n",
            "                 from \u001b[01m\u001b[K../../snap-adv/word2vec.cpp:2\u001b[m\u001b[K:\n",
            "../../glib-core/bd.h: In instantiation of ‘\u001b[01m\u001b[Kvoid TPt<TRec>::UnRef() const [with TRec = TNEANet]\u001b[m\u001b[K’:\n",
            "\u001b[01m\u001b[K../../glib-core/bd.h:480:15:\u001b[m\u001b[K   required from ‘\u001b[01m\u001b[KTPt<TRec>::~TPt() [with TRec = TNEANet]\u001b[m\u001b[K’\n",
            "\u001b[01m\u001b[K../../snap-core/network.h:2015:54:\u001b[m\u001b[K   required from here\n",
            "\u001b[01m\u001b[K../../glib-core/bd.h:472:31:\u001b[m\u001b[K \u001b[01;35m\u001b[Kwarning: \u001b[m\u001b[Kdeleting object of polymorphic class type ‘\u001b[01m\u001b[KTNEANet\u001b[m\u001b[K’ which has non-virtual destructor might cause undefined behavior [\u001b[01;35m\u001b[K-Wdelete-non-virtual-dtor\u001b[m\u001b[K]\n",
            "       if (Addr->CRef.NoRef()){\u001b[01;35m\u001b[Kdelete\u001b[m\u001b[K Addr;}\n",
            "                               \u001b[01;35m\u001b[K^~~~~~\u001b[m\u001b[K\n",
            "In file included from \u001b[01m\u001b[K../../glib-core/base.h:182:0\u001b[m\u001b[K,\n",
            "                 from \u001b[01m\u001b[K../../snap-core/Snap.h:9\u001b[m\u001b[K,\n",
            "                 from \u001b[01m\u001b[K../../snap-adv/biasedrandomwalk.cpp:2\u001b[m\u001b[K:\n",
            "\u001b[01m\u001b[K../../glib-core/ds.h:\u001b[m\u001b[K In member function ‘\u001b[01m\u001b[Kbool TTuple<TVal, NVals>::operator==(const TTuple<TVal, NVals>&) const\u001b[m\u001b[K’:\n",
            "\u001b[01m\u001b[K../../glib-core/ds.h:290:5:\u001b[m\u001b[K \u001b[01;35m\u001b[Kwarning: \u001b[m\u001b[Kthis ‘\u001b[01m\u001b[Kfor\u001b[m\u001b[K’ clause does not guard... [\u001b[01;35m\u001b[K-Wmisleading-indentation\u001b[m\u001b[K]\n",
            "     \u001b[01;35m\u001b[Kfor\u001b[m\u001b[K (int i=0; i<Len(); i++) if(ValV[i]!=Tup[i]){return false;} return true; }\n",
            "     \u001b[01;35m\u001b[K^~~\u001b[m\u001b[K\n",
            "\u001b[01m\u001b[K../../glib-core/ds.h:290:68:\u001b[m\u001b[K \u001b[01;36m\u001b[Knote: \u001b[m\u001b[K...this statement, but the latter is misleadingly indented as if it were guarded by the ‘\u001b[01m\u001b[Kfor\u001b[m\u001b[K’\n",
            "     for (int i=0; i<Len(); i++) if(ValV[i]!=Tup[i]){return false;} \u001b[01;36m\u001b[Kreturn\u001b[m\u001b[K true; }\n",
            "                                                                    \u001b[01;36m\u001b[K^~~~~~\u001b[m\u001b[K\n",
            "In file included from \u001b[01m\u001b[K../../glib-core/base.h:178:0\u001b[m\u001b[K,\n",
            "                 from \u001b[01m\u001b[K../../snap-core/Snap.h:9\u001b[m\u001b[K,\n",
            "                 from \u001b[01m\u001b[K../../snap-adv/biasedrandomwalk.cpp:2\u001b[m\u001b[K:\n",
            "../../glib-core/bd.h: In instantiation of ‘\u001b[01m\u001b[Kvoid TPt<TRec>::UnRef() const [with TRec = TNEANet]\u001b[m\u001b[K’:\n",
            "\u001b[01m\u001b[K../../glib-core/bd.h:480:15:\u001b[m\u001b[K   required from ‘\u001b[01m\u001b[KTPt<TRec>::~TPt() [with TRec = TNEANet]\u001b[m\u001b[K’\n",
            "\u001b[01m\u001b[K../../snap-core/network.h:2015:54:\u001b[m\u001b[K   required from here\n",
            "\u001b[01m\u001b[K../../glib-core/bd.h:472:31:\u001b[m\u001b[K \u001b[01;35m\u001b[Kwarning: \u001b[m\u001b[Kdeleting object of polymorphic class type ‘\u001b[01m\u001b[KTNEANet\u001b[m\u001b[K’ which has non-virtual destructor might cause undefined behavior [\u001b[01;35m\u001b[K-Wdelete-non-virtual-dtor\u001b[m\u001b[K]\n",
            "       if (Addr->CRef.NoRef()){\u001b[01;35m\u001b[Kdelete\u001b[m\u001b[K Addr;}\n",
            "                               \u001b[01;35m\u001b[K^~~~~~\u001b[m\u001b[K\n",
            "cp node2vec ../Release\n"
          ],
          "name": "stdout"
        }
      ]
    },
    {
      "cell_type": "markdown",
      "metadata": {
        "id": "zZ5Zq0lHd_hN",
        "colab_type": "text"
      },
      "source": [
        "#Download  The Data"
      ]
    },
    {
      "cell_type": "code",
      "metadata": {
        "id": "5R8C3dbGp9E8",
        "colab_type": "code",
        "outputId": "80b732ea-486e-46bf-e35b-b3f1e83126aa",
        "colab": {
          "base_uri": "https://localhost:8080/",
          "height": 86
        }
      },
      "source": [
        "!gdown https://drive.google.com/uc?id=13q11ZnhYehDtibrHCvA7kfSkCKcxMpcv\n",
        "\n",
        "import zipfile\n",
        "with zipfile.ZipFile(\"fr-domain-classification.zip\",\"r\") as zip_ref:\n",
        "    zip_ref.extractall(\"\")\n",
        "    "
      ],
      "execution_count": 3,
      "outputs": [
        {
          "output_type": "stream",
          "text": [
            "Downloading...\n",
            "From: https://drive.google.com/uc?id=13q11ZnhYehDtibrHCvA7kfSkCKcxMpcv\n",
            "To: /content/snap/examples/node2vec/fr-domain-classification.zip\n",
            "259MB [00:02, 90.3MB/s]\n"
          ],
          "name": "stdout"
        }
      ]
    },
    {
      "cell_type": "markdown",
      "metadata": {
        "id": "BsR7_eeueQWj",
        "colab_type": "text"
      },
      "source": [
        "#Load Dependencies"
      ]
    },
    {
      "cell_type": "code",
      "metadata": {
        "id": "yWjQvud8btYp",
        "colab_type": "code",
        "colab": {}
      },
      "source": [
        "import numpy as np\n",
        "import networkx as nx\n",
        "from random import randint\n",
        "from gensim.models import Word2Vec\n",
        "from tqdm import tqdm\n",
        "import csv\n",
        "import numpy as np\n",
        "import os "
      ],
      "execution_count": 0,
      "outputs": []
    },
    {
      "cell_type": "markdown",
      "metadata": {
        "id": "OkmX9YCkZ-nV",
        "colab_type": "text"
      },
      "source": [
        "# Load The Data"
      ]
    },
    {
      "cell_type": "markdown",
      "metadata": {
        "id": "ZD-V7eLyeWuI",
        "colab_type": "text"
      },
      "source": [
        "## Load The Undirected Graph\n"
      ]
    },
    {
      "cell_type": "code",
      "metadata": {
        "id": "QGDK0SdaedQF",
        "colab_type": "code",
        "colab": {}
      },
      "source": [
        "G = nx.read_weighted_edgelist('edgelist.txt', create_using=nx.Graph())\n",
        "G.add_node(\"17591\")"
      ],
      "execution_count": 0,
      "outputs": []
    },
    {
      "cell_type": "markdown",
      "metadata": {
        "id": "8BUkBS8jeeBn",
        "colab_type": "text"
      },
      "source": [
        "# Load The Train And Test Node Index"
      ]
    },
    {
      "cell_type": "code",
      "metadata": {
        "id": "nMxDVtRxp-1b",
        "colab_type": "code",
        "colab": {}
      },
      "source": [
        "with open(\"train.csv\") as f :\n",
        "  train_data = f.read().splitlines()\n",
        "train_hosts = list()\n",
        "\n",
        "y_train = list()\n",
        "for row in train_data:\n",
        "    host, label = row.split(\",\")\n",
        "    train_hosts.append(host)\n",
        "    y_train.append(label.lower())\n",
        "\n",
        "with open(\"test.csv\", 'r') as f:\n",
        "    test_hosts = f.read().splitlines()"
      ],
      "execution_count": 0,
      "outputs": []
    },
    {
      "cell_type": "markdown",
      "metadata": {
        "id": "linCYFqne1xX",
        "colab_type": "text"
      },
      "source": [
        "#Categorical Encoding Using Label Encoding"
      ]
    },
    {
      "cell_type": "code",
      "metadata": {
        "id": "oY0qWTYmeouM",
        "colab_type": "code",
        "colab": {}
      },
      "source": [
        "from sklearn import preprocessing\n",
        "le = preprocessing.LabelEncoder()\n",
        "le.fit(y_train)\n",
        "le.classes_\n",
        "y_train_num = le.transform(y_train)\n"
      ],
      "execution_count": 0,
      "outputs": []
    },
    {
      "cell_type": "markdown",
      "metadata": {
        "id": "yJM7U-YEZ2Vt",
        "colab_type": "text"
      },
      "source": [
        "#Node2Vec"
      ]
    },
    {
      "cell_type": "code",
      "metadata": {
        "id": "IgEoWs0khyJy",
        "colab_type": "code",
        "colab": {}
      },
      "source": [
        "nx.write_edgelist(G, \"graph.edgelist\")"
      ],
      "execution_count": 0,
      "outputs": []
    },
    {
      "cell_type": "code",
      "metadata": {
        "id": "mkcB5KoJqAcF",
        "colab_type": "code",
        "colab": {}
      },
      "source": [
        "%%bash\n",
        "./node2vec -i:graph.edgelist -o:embdings.emb  -e:10 -d:256 -l:400  -r:100\n"
      ],
      "execution_count": 0,
      "outputs": []
    },
    {
      "cell_type": "markdown",
      "metadata": {
        "id": "NNQOvW0zfoG8",
        "colab_type": "text"
      },
      "source": [
        "#Save Embedding Matrix"
      ]
    },
    {
      "cell_type": "code",
      "metadata": {
        "id": "LWtwX2vOqECB",
        "colab_type": "code",
        "colab": {}
      },
      "source": [
        "n_dim = 256\n",
        "embeddings = np.zeros((G.number_of_nodes(), n_dim))\n",
        "with open(\"embdings.emb\", \"r\") as movies_file:\n",
        "    next(movies_file)\n",
        "    reader = csv.reader(movies_file, delimiter=\" \")\n",
        "\n",
        "    params = []\n",
        "    for row in reader:\n",
        "        embeddings[int(row[0]),:] =[float(item) for item in row[1:]]\n",
        "\n",
        "np.save(\"embedding_node2_vec\",embeddings)      "
      ],
      "execution_count": 0,
      "outputs": []
    },
    {
      "cell_type": "markdown",
      "metadata": {
        "id": "haTrw7HHbUwL",
        "colab_type": "text"
      },
      "source": [
        "#Deep Walk"
      ]
    },
    {
      "cell_type": "markdown",
      "metadata": {
        "id": "dCY7W-bDfFJv",
        "colab_type": "text"
      },
      "source": [
        "## Generate Random"
      ]
    },
    {
      "cell_type": "code",
      "metadata": {
        "id": "q6LMmwpTbrL6",
        "colab_type": "code",
        "colab": {}
      },
      "source": [
        "def random_walk(G, node, walk_length):\n",
        "  walk = [node]\n",
        "\n",
        "  for i in range(walk_length):\n",
        "    neighbors =  list(G.neighbors(walk[i]))\n",
        "    walk.append(neighbors[randint(0,len(neighbors)-1)])\n",
        "  walk = [str(node) for node in walk]\n",
        "  return walk"
      ],
      "execution_count": 0,
      "outputs": []
    },
    {
      "cell_type": "code",
      "metadata": {
        "id": "AedR23gUe8We",
        "colab_type": "code",
        "colab": {
          "base_uri": "https://localhost:8080/",
          "height": 34
        },
        "outputId": "0589d218-2404-4924-96d8-7049aea2f6f9"
      },
      "source": [
        "walks = []\n",
        "num_walks=20\n",
        "walk_lenght=500\n",
        "for i in tqdm(range(num_walks)):  \n",
        "\t\tnodes = G.nodes()\n",
        "\t\tnodes = np.random.permutation(nodes)\n",
        "\t\tfor host in train_hosts+test_hosts:\n",
        "     \n",
        "\t\t\twalk = random_walk(G, host, walk_lenght)\n",
        "\t\t\twalks.append(walk)\n",
        "\n",
        "\n"
      ],
      "execution_count": 15,
      "outputs": [
        {
          "output_type": "stream",
          "text": [
            "100%|██████████| 20/20 [00:10<00:00,  1.95it/s]\n"
          ],
          "name": "stderr"
        }
      ]
    },
    {
      "cell_type": "markdown",
      "metadata": {
        "id": "wfQvFre7fHlR",
        "colab_type": "text"
      },
      "source": [
        "## Train Word2Vec"
      ]
    },
    {
      "cell_type": "code",
      "metadata": {
        "id": "Xb5xFi_afIYF",
        "colab_type": "code",
        "colab": {
          "base_uri": "https://localhost:8080/",
          "height": 34
        },
        "outputId": "45da7f3b-a3fe-44f8-9668-8cab8dc23f4a"
      },
      "source": [
        "model = Word2Vec(size=256, window=10, min_count=0, sg=1, workers=8)\n",
        "model.build_vocab(walks)\n",
        "model.train(walks, total_examples=model.corpus_count, epochs=5)"
      ],
      "execution_count": 16,
      "outputs": [
        {
          "output_type": "execute_result",
          "data": {
            "text/plain": [
              "(5443883, 5638500)"
            ]
          },
          "metadata": {
            "tags": []
          },
          "execution_count": 16
        }
      ]
    },
    {
      "cell_type": "markdown",
      "metadata": {
        "id": "3vCEL1-FfPyd",
        "colab_type": "text"
      },
      "source": [
        "#Save Embedding Matrix"
      ]
    },
    {
      "cell_type": "code",
      "metadata": {
        "id": "csHhkbUOfTBL",
        "colab_type": "code",
        "colab": {}
      },
      "source": [
        "embeddings = np.empty(shape=(len( train_hosts+test_hosts), 256))\n",
        "for idx,node in enumerate( train_hosts+test_hosts):\n",
        "        embeddings[idx,:] = model.wv[node]"
      ],
      "execution_count": 0,
      "outputs": []
    },
    {
      "cell_type": "code",
      "metadata": {
        "id": "jjOABgFxfl1L",
        "colab_type": "code",
        "colab": {}
      },
      "source": [
        "np.save(\"embedding_deep_walk\",embeddings) "
      ],
      "execution_count": 0,
      "outputs": []
    },
    {
      "cell_type": "markdown",
      "metadata": {
        "id": "JKehAqKGjF-D",
        "colab_type": "text"
      },
      "source": [
        "#BioNEV(Biomedical Network Embedding Evaluation)"
      ]
    },
    {
      "cell_type": "code",
      "metadata": {
        "id": "N6KN-motiykr",
        "colab_type": "code",
        "colab": {}
      },
      "source": [
        "!pip install git+https://github.com/xiangyue9607/BioNEV.git"
      ],
      "execution_count": 0,
      "outputs": []
    },
    {
      "cell_type": "markdown",
      "metadata": {
        "id": "_16a2i4wfrSk",
        "colab_type": "text"
      },
      "source": [
        "## SDNE"
      ]
    },
    {
      "cell_type": "code",
      "metadata": {
        "id": "3bgy02u0i8Si",
        "colab_type": "code",
        "colab": {}
      },
      "source": [
        "!bionev --input edgelist.txt --output SDNE.txt    --method SDNE  --weighted True"
      ],
      "execution_count": 0,
      "outputs": []
    },
    {
      "cell_type": "code",
      "metadata": {
        "id": "VnVsls01jaGP",
        "colab_type": "code",
        "colab": {}
      },
      "source": [
        "with open('SDNE.txt') as f:\n",
        "    lines = f.readlines()\n",
        "\n",
        "embeddings=np.zeros((G.number_of_nodes(),128))\n",
        "for line in lines[1:]:\n",
        "  tmp=line.replace(\"\\n\",\"\").split(\" \")\n",
        "  vec=[]\n",
        "  for u in tmp[1:]:\n",
        "    vec.append(float(u))\n",
        "  embeddings[int(tmp[0]),:]=vec\n",
        "\n",
        "np.save(\"embeddings_SDNE.npy\",embeddings)"
      ],
      "execution_count": 0,
      "outputs": []
    },
    {
      "cell_type": "markdown",
      "metadata": {
        "id": "Iogn0lZ9juVo",
        "colab_type": "text"
      },
      "source": [
        "## LINE"
      ]
    },
    {
      "cell_type": "code",
      "metadata": {
        "id": "eyGhUE8sjyvV",
        "colab_type": "code",
        "colab": {}
      },
      "source": [
        "!bionev --dimensions 256 --input edgelist.txt --output LINE.txt  --method LINE --order 3 --weighted True"
      ],
      "execution_count": 0,
      "outputs": []
    },
    {
      "cell_type": "code",
      "metadata": {
        "id": "ukY585Skj4Gn",
        "colab_type": "code",
        "colab": {}
      },
      "source": [
        "with open('LINE.txt') as f:\n",
        "    lines = f.readlines()\n",
        "\n",
        "embeddings=np.zeros((G.number_of_nodes(),256))\n",
        "for line in lines[1:]:\n",
        "  tmp=line.replace(\"\\n\",\"\").split(\" \")\n",
        "  vec=[]\n",
        "  for u in tmp[1:]:\n",
        "    vec.append(float(u))\n",
        "  embeddings[int(tmp[0]),:]=vec\n",
        "\n",
        "\n",
        "np.save(\"embeddings_LINE.npy\",embeddings)"
      ],
      "execution_count": 0,
      "outputs": []
    },
    {
      "cell_type": "markdown",
      "metadata": {
        "id": "ChPmortgj_6S",
        "colab_type": "text"
      },
      "source": [
        "#Singular Value Decomposition"
      ]
    },
    {
      "cell_type": "code",
      "metadata": {
        "id": "lIXvnRZ9j6ov",
        "colab_type": "code",
        "colab": {
          "base_uri": "https://localhost:8080/",
          "height": 86
        },
        "outputId": "02a4fd91-015a-47ea-dab6-eda45a5cf96c"
      },
      "source": [
        "!bionev --input edgelist.txt \\\n",
        "       --output SVD.txt \\\n",
        "       --method SVD \\\n",
        "        --dimensions 256 \\\n",
        "       --weighted True"
      ],
      "execution_count": 22,
      "outputs": [
        {
          "output_type": "stream",
          "text": [
            "######################################################################\n",
            "Embedding Method: SVD, Evaluation Task: none\n",
            "######################################################################\n",
            "Embedding Learning Time: 28.34 s\n"
          ],
          "name": "stdout"
        }
      ]
    },
    {
      "cell_type": "code",
      "metadata": {
        "id": "hBOjzn4ekIfj",
        "colab_type": "code",
        "colab": {}
      },
      "source": [
        "with open('SVD.txt') as f:\n",
        "    lines = f.readlines()\n",
        "\n",
        "embeddings=np.zeros((G.number_of_nodes(),256))\n",
        "for line in lines[1:]:\n",
        "  tmp=line.replace(\"\\n\",\"\").split(\" \")\n",
        "  vec=[]\n",
        "  for u in tmp[1:]:\n",
        "    vec.append(float(u))\n",
        "  embeddings[int(tmp[0]),:]=vec\n",
        "\n",
        "\n",
        "np.save(\"embeddings_SVD.npy\",embeddings)"
      ],
      "execution_count": 0,
      "outputs": []
    }
  ]
}